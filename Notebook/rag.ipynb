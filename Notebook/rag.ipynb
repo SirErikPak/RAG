{
 "cells": [
  {
   "cell_type": "code",
   "execution_count": 1,
   "id": "33be4457",
   "metadata": {},
   "outputs": [
    {
     "name": "stdout",
     "output_type": "stream",
     "text": [
      "LangChain Version: 0.3.26\n",
      "Numpy Version: 2.3.1\n",
      "Pandas Version: 2.3.0\n",
      "Python Version: 3.13.2\n"
     ]
    }
   ],
   "source": [
    "import sys\n",
    "sys.path.append('../Src')\n",
    "\n",
    "from platform import python_version\n",
    "import numpy as np\n",
    "import pandas as pd\n",
    "\n",
    "\n",
    "import glob\n",
    "#  The glob library (or more accurately, the glob module in Python) is a built-in Python module that provides a way to find all \n",
    "# the pathnames matching a specified pattern according to the rules used by the Unix shell.\n",
    "# It's extremely useful when you need to discover files or directories based on wildcard patterns, without having to manually \n",
    "# iterate through directories and check filenames.\n",
    "import langchain\n",
    "from langchain.document_loaders import DirectoryLoader\n",
    "\n",
    "# initializing variables\n",
    "RANDOM_STATE = 1776\n",
    "\n",
    "# print versions\n",
    "print(\"LangChain Version: \" + langchain.__version__)\n",
    "print(\"Numpy Version: \" + np.__version__)\n",
    "print(\"Pandas Version: \" + pd.__version__)\n",
    "# print(\"Seaborn Version: \" + sns.__version__)\n",
    "# print(\"Matplotlib Version: \" + plt.matplotlib.__version__)\n",
    "print(\"Python Version: \" + python_version())"
   ]
  },
  {
   "cell_type": "markdown",
   "id": "017c4ef9",
   "metadata": {},
   "source": [
    "#### This line of code initializes a DirectoryLoader object from LangChain, configured to find and prepare specific files for loading. Let's break down its components:\n",
    "- from langchain.document_loaders import DirectoryLoader:\n",
    "    - This line imports the DirectoryLoader class from LangChain's document_loaders module. This class is designed to load multiple documents from a specified directory.\n",
    "        - loader = DirectoryLoader(...):\n",
    "    - This creates an instance of the DirectoryLoader class and assigns it to the variable loader. This loader object is now configured but hasn't actually loaded any documents yet.\n",
    "        - './data':\n",
    "    - This is the first argument to DirectoryLoader and specifies the path to the directory you want to load documents from.\n",
    "        - ./data means a directory named data located in the current working directory where your Python script is being executed.\n",
    "        - glob=\"**/*.pdf\":\n",
    "        - This is a crucial argument that defines a glob pattern to filter which files within the specified directory should be loaded.\n",
    "        - **: This is a wildcard that matches any directory (including subdirectories) zero or more levels deep. So, it tells the loader to search recursively within ./data.\n",
    "        - *.pdf: This wildcard matches any file ending with .pdf.\n",
    "        - Combined (**/*.pdf): This pattern instructs the DirectoryLoader to find all files ending with .pdf within the ./data directory and any of its subdirectories.\n",
    "\n"
   ]
  },
  {
   "cell_type": "code",
   "execution_count": 2,
   "id": "18ad65be",
   "metadata": {},
   "outputs": [],
   "source": [
    "# from docx import Document\n",
    "\n",
    "# doc = Document(\"your_file.docx\")\n",
    "# for para in doc.paragraphs:\n",
    "#     print(para.text)\n",
    "\n",
    "\n",
    "\n",
    "# from langchain_community.document_loaders.excel import UnstructuredExcelLoader\n",
    "\n",
    "# # Load the Excel file (choose mode: \"single\" or \"elements\")\n",
    "# loader = UnstructuredExcelLoader(\"your_file.xlsx\", mode=\"elements\")\n",
    "# docs = loader.load()\n",
    "# # List All Sheet Names\n",
    "# for doc in docs:\n",
    "#     print(doc.metadata.get(\"sheet_name\"), doc.page_content[:100])\n",
    "\n",
    "# Use UnstructuredExcelLoader to bring Excel data into LangChain. You can load entire files or \n",
    "# individual sheets, and each document will include both text and metadata for downstream processing"
   ]
  },
  {
   "cell_type": "markdown",
   "id": "a276c98e",
   "metadata": {},
   "source": [
    "### Modes Explained\n",
    "- \"single\" mode (default):\n",
    "- Loads the entire Excel file as one document.\n",
    "- The document's metadata includes an HTML representation of the table under the text_as_html key.\n",
    "\n",
    "### \"elements\" mode:\n",
    "- Loads each sheet as a separate table element.\n",
    "- Each element is a separate document, and its metadata contains details about the sheet and an HTML version of the table.\n",
    "- What You Get\n",
    "    - Each loaded document has:\n",
    "    - page_content: The raw text extracted from the Excel file or sheet.\n",
    "    - metadata: Information about the sheet, file, and (in \"single\" mode) an HTML version of the table.\n",
    "\n",
    "### Typical Workflow\n",
    "- Use UnstructuredExcelLoader to load Excel data into LangChain Document objects.\n",
    "- Process, chunk, embed, or retrieve from these documents as needed for your LLM or RAG pipeline.\n",
    "- Example: List All Sheet Names\n",
    "    - python\n",
    "        - for doc in docs:\n",
    "        - print(doc.metadata.get(\"sheet_name\"), doc.page_content[:100])\n",
    "### Summary Table\n",
    "- Loader\tFile Types Supported\tModes\tSpecial Features\n",
    "- UnstructuredExcelLoader\t.xlsx, .xls\t\"single\", \"elements\"\tHTML table in metadata, sheet-level docs\n",
    "### In summary:\n",
    "- Use UnstructuredExcelLoader to bring Excel data into LangChain. You can load entire files or individual sheets, and each document will include both text and metadata for downstream processing"
   ]
  },
  {
   "cell_type": "code",
   "execution_count": 3,
   "id": "88335ed1",
   "metadata": {},
   "outputs": [
    {
     "name": "stderr",
     "output_type": "stream",
     "text": [
      "Cannot set gray non-stroke color because /'P0' is an invalid float value\n",
      "Cannot set gray non-stroke color because /'P1' is an invalid float value\n",
      "Cannot set gray non-stroke color because /'P2' is an invalid float value\n",
      "Cannot set gray non-stroke color because /'P3' is an invalid float value\n",
      "Cannot set gray non-stroke color because /'P4' is an invalid float value\n",
      "Cannot set gray non-stroke color because /'P5' is an invalid float value\n",
      "Cannot set gray non-stroke color because /'P0' is an invalid float value\n",
      "Cannot set gray non-stroke color because /'P1' is an invalid float value\n",
      "Cannot set gray non-stroke color because /'P2' is an invalid float value\n",
      "Cannot set gray non-stroke color because /'P3' is an invalid float value\n",
      "Cannot set gray non-stroke color because /'P4' is an invalid float value\n",
      "Cannot set gray non-stroke color because /'P5' is an invalid float value\n",
      "Cannot set gray non-stroke color because /'P6' is an invalid float value\n",
      "Cannot set gray non-stroke color because /'P7' is an invalid float value\n",
      "Cannot set gray non-stroke color because /'P8' is an invalid float value\n",
      "Cannot set gray non-stroke color because /'P9' is an invalid float value\n",
      "Cannot set gray non-stroke color because /'P10' is an invalid float value\n",
      "Cannot set gray non-stroke color because /'P11' is an invalid float value\n",
      "Cannot set gray non-stroke color because /'P12' is an invalid float value\n",
      "Cannot set gray non-stroke color because /'P13' is an invalid float value\n",
      "Cannot set gray non-stroke color because /'P0' is an invalid float value\n",
      "Cannot set gray non-stroke color because /'P1' is an invalid float value\n",
      "Cannot set gray non-stroke color because /'P2' is an invalid float value\n",
      "Cannot set gray non-stroke color because /'P0' is an invalid float value\n",
      "Cannot set gray non-stroke color because /'P1' is an invalid float value\n",
      "Cannot set gray non-stroke color because /'P2' is an invalid float value\n",
      "Cannot set gray non-stroke color because /'P1' is an invalid float value\n"
     ]
    },
    {
     "name": "stdout",
     "output_type": "stream",
     "text": [
      "Total documents loaded: 153\n",
      "\n"
     ]
    }
   ],
   "source": [
    "# Loading all PDFs from a 'data' directory (including subdirectories) -  Configure the loader\n",
    "loader = DirectoryLoader('../Data', glob=\"**/*.pdf\")\n",
    "\n",
    "# Actually load the documents\n",
    "documents = loader.load()\n",
    "\n",
    "print(f\"Total documents loaded: {len(documents)}\\n\")\n",
    "# print(documents[0].metadata['source'])  # Display the source of the first document\n",
    "\n",
    "# print(documents[0])  # Display the content of the first document\n",
    "\n",
    "direct_loader_docs = documents.copy()\n",
    " "
   ]
  },
  {
   "cell_type": "markdown",
   "id": "fa23f922",
   "metadata": {},
   "source": [
    "This error comes from an invalid color value—usually a resource name like /P0—when a numeric value is needed for gray color in a PDF. The cause is almost always malformed or nonstandard PDFs, and the solution is either updating your tools, regenerating the PDF, or bypassing/repairing problematic resources, depending on your workflow and needs. "
   ]
  },
  {
   "cell_type": "markdown",
   "id": "04032109",
   "metadata": {},
   "source": [
    "## Unstructured PDF Loader"
   ]
  },
  {
   "cell_type": "code",
   "execution_count": 4,
   "id": "b3667018",
   "metadata": {},
   "outputs": [
    {
     "name": "stderr",
     "output_type": "stream",
     "text": [
      "Cannot set gray non-stroke color because /'P0' is an invalid float value\n",
      "Cannot set gray non-stroke color because /'P1' is an invalid float value\n",
      "Cannot set gray non-stroke color because /'P2' is an invalid float value\n",
      "Cannot set gray non-stroke color because /'P3' is an invalid float value\n",
      "Cannot set gray non-stroke color because /'P4' is an invalid float value\n",
      "Cannot set gray non-stroke color because /'P5' is an invalid float value\n",
      "Cannot set gray non-stroke color because /'P0' is an invalid float value\n",
      "Cannot set gray non-stroke color because /'P1' is an invalid float value\n",
      "Cannot set gray non-stroke color because /'P2' is an invalid float value\n",
      "Cannot set gray non-stroke color because /'P3' is an invalid float value\n",
      "Cannot set gray non-stroke color because /'P4' is an invalid float value\n",
      "Cannot set gray non-stroke color because /'P5' is an invalid float value\n",
      "Cannot set gray non-stroke color because /'P6' is an invalid float value\n",
      "Cannot set gray non-stroke color because /'P7' is an invalid float value\n",
      "Cannot set gray non-stroke color because /'P8' is an invalid float value\n",
      "Cannot set gray non-stroke color because /'P9' is an invalid float value\n",
      "Cannot set gray non-stroke color because /'P10' is an invalid float value\n",
      "Cannot set gray non-stroke color because /'P11' is an invalid float value\n",
      "Cannot set gray non-stroke color because /'P12' is an invalid float value\n",
      "Cannot set gray non-stroke color because /'P13' is an invalid float value\n",
      "Cannot set gray non-stroke color because /'P0' is an invalid float value\n",
      "Cannot set gray non-stroke color because /'P1' is an invalid float value\n",
      "Cannot set gray non-stroke color because /'P2' is an invalid float value\n",
      "Cannot set gray non-stroke color because /'P0' is an invalid float value\n",
      "Cannot set gray non-stroke color because /'P1' is an invalid float value\n",
      "Cannot set gray non-stroke color because /'P2' is an invalid float value\n",
      "Cannot set gray non-stroke color because /'P1' is an invalid float value\n"
     ]
    },
    {
     "name": "stdout",
     "output_type": "stream",
     "text": [
      "Successfully loaded 153 documents.\n"
     ]
    }
   ],
   "source": [
    "from langchain_community.document_loaders import UnstructuredFileLoader # Make sure this is imported\n",
    "\n",
    "# Configure the loader (your line)\n",
    "loader = DirectoryLoader('../Data', glob=\"**/*.pdf\", loader_cls=UnstructuredFileLoader)\n",
    "\n",
    "# Now, execute the loading process\n",
    "documents = loader.load()\n",
    "\n",
    "# You can then check how many documents were loaded and inspect a sample:\n",
    "print(f\"Successfully loaded {len(documents)} documents.\")\n",
    "# if documents:\n",
    "#     print(\"\\nFirst document snippet:\")\n",
    "#     print(documents[0].page_content[:500]) # Print first 500 characters of the first document\n",
    "#     print(\"\\nFirst document metadata:\")\n",
    "#     print(documents[0].metadata)\n",
    "\n",
    "# Configure the loader to use UnstructuredFileLoader for PDFs\n",
    "# UnstructuredFileLoader is more robust but might have more dependencies and be slower\n",
    "loader = DirectoryLoader('../Data', glob=\"**/*.pdf\", loader_cls=UnstructuredFileLoader)\n",
    "\n",
    "\n",
    "direct_loader_unstructured_docs = documents.copy()"
   ]
  },
  {
   "cell_type": "code",
   "execution_count": null,
   "id": "f55994fc",
   "metadata": {},
   "outputs": [],
   "source": [
    "# documents[1].metadata['source']\n",
    "# documents[1].metadata.get('page')"
   ]
  },
  {
   "cell_type": "code",
   "execution_count": null,
   "id": "6aa36ef7",
   "metadata": {},
   "outputs": [],
   "source": [
    "# documents[1].metadata.keys()  # List all metadata keys for the second document"
   ]
  },
  {
   "cell_type": "code",
   "execution_count": 5,
   "id": "f1eebec6",
   "metadata": {},
   "outputs": [
    {
     "name": "stdout",
     "output_type": "stream",
     "text": [
      "All unique metadata keys: {'source'}\n"
     ]
    }
   ],
   "source": [
    "all_keys = set()\n",
    "for doc in documents:\n",
    "    all_keys.update(doc.metadata.keys())\n",
    "print(f\"All unique metadata keys: {all_keys}\")"
   ]
  },
  {
   "cell_type": "markdown",
   "id": "bf63bae0",
   "metadata": {},
   "source": [
    "## Different ways to load documents"
   ]
  },
  {
   "cell_type": "code",
   "execution_count": 6,
   "id": "8057a4b4",
   "metadata": {},
   "outputs": [
    {
     "name": "stderr",
     "output_type": "stream",
     "text": [
      "Cannot set gray non-stroke color because /'P0' is an invalid float value\n",
      "Cannot set gray non-stroke color because /'P1' is an invalid float value\n",
      "Cannot set gray non-stroke color because /'P2' is an invalid float value\n",
      "Cannot set gray non-stroke color because /'P3' is an invalid float value\n",
      "Cannot set gray non-stroke color because /'P4' is an invalid float value\n",
      "Cannot set gray non-stroke color because /'P5' is an invalid float value\n",
      "Cannot set gray non-stroke color because /'P0' is an invalid float value\n",
      "Cannot set gray non-stroke color because /'P1' is an invalid float value\n",
      "Cannot set gray non-stroke color because /'P2' is an invalid float value\n",
      "Cannot set gray non-stroke color because /'P3' is an invalid float value\n",
      "Cannot set gray non-stroke color because /'P4' is an invalid float value\n",
      "Cannot set gray non-stroke color because /'P5' is an invalid float value\n",
      "Cannot set gray non-stroke color because /'P6' is an invalid float value\n",
      "Cannot set gray non-stroke color because /'P7' is an invalid float value\n",
      "Cannot set gray non-stroke color because /'P8' is an invalid float value\n",
      "Cannot set gray non-stroke color because /'P9' is an invalid float value\n",
      "Cannot set gray non-stroke color because /'P10' is an invalid float value\n",
      "Cannot set gray non-stroke color because /'P11' is an invalid float value\n",
      "Cannot set gray non-stroke color because /'P12' is an invalid float value\n",
      "Cannot set gray non-stroke color because /'P13' is an invalid float value\n",
      "Cannot set gray non-stroke color because /'P0' is an invalid float value\n",
      "Cannot set gray non-stroke color because /'P1' is an invalid float value\n",
      "Cannot set gray non-stroke color because /'P2' is an invalid float value\n",
      "Cannot set gray non-stroke color because /'P0' is an invalid float value\n",
      "Cannot set gray non-stroke color because /'P1' is an invalid float value\n",
      "Cannot set gray non-stroke color because /'P2' is an invalid float value\n",
      "Cannot set gray non-stroke color because /'P1' is an invalid float value\n"
     ]
    },
    {
     "name": "stdout",
     "output_type": "stream",
     "text": [
      "Loaded 153 documents from 153 files.\n"
     ]
    }
   ],
   "source": [
    "from langchain.document_loaders import UnstructuredPDFLoader  # or langchain_community if using that\n",
    "\n",
    "pdf_files = glob.glob(\"../Data/*.pdf\")\n",
    "\n",
    "documents = []\n",
    "\n",
    "for file_path in pdf_files:\n",
    "    # loader = UnstructuredPDFLoader(file_path=file_path, strategy=\"hi_res\")\n",
    "    loader = UnstructuredPDFLoader(file_path=file_path, strategy=\"fast\")\n",
    "    docs = loader.load()\n",
    "    documents.extend(docs)\n",
    "\n",
    "\n",
    "print(f\"Loaded {len(documents)} documents from {len(pdf_files)} files.\")\n",
    "# print(documents[0].metadata['source'])  # Display the source of the first document\n",
    "\n",
    "\n",
    "direct_loader_unstructured_pdf_docs = documents.copy()"
   ]
  },
  {
   "cell_type": "code",
   "execution_count": 7,
   "id": "8d18e82a",
   "metadata": {},
   "outputs": [
    {
     "name": "stdout",
     "output_type": "stream",
     "text": [
      "All unique metadata keys: {'source'}\n"
     ]
    }
   ],
   "source": [
    "all_keys = set()\n",
    "for doc in documents:\n",
    "    all_keys.update(doc.metadata.keys())\n",
    "print(f\"All unique metadata keys: {all_keys}\")"
   ]
  },
  {
   "cell_type": "markdown",
   "id": "9d90ba62",
   "metadata": {},
   "source": [
    "#### UnstructuredPDFLoader (153 documents from 153 files)\n",
    "- Default Behavior: UnstructuredPDFLoader (using the unstructured library) typically aims to process an entire PDF file as one logical document. Even if a PDF has multiple pages, UnstructuredPDFLoader will often concatenate the content of all pages into the page_content of a single LangChain Document object for that PDF file.\n",
    "- Granularity: It focuses on extracting the overall text and structure of the entire document, rather than splitting it by page. While it might include page_number in the metadata or even in the page_content itself, the primary output for one PDF file is usually one Document object.\n",
    "- Result: This is why you get 1 document per PDF file. If you have 153 PDF files, you get 153 Document objects.\n",
    "\n",
    "#### PyMuPDFLoader (966 documents from 153 files)\n",
    "\n",
    "- Default Behavior: PyMuPDFLoader (using the PyMuPDF library, also known as fitz) typically loads each page of a PDF file as a separate LangChain Document object.\n",
    "- Granularity: It's designed to provide more granular control at the page level. For a 10-page PDF, PyMuPDFLoader would yield 10 separate Document objects, each representing one page.\n",
    "- Result: This explains the significant difference. If you divide the total documents by the number of files (966 / 153), you get approximately 6.3 pages per PDF file on average. This is a very common scenario. Each of those 966 documents represents one page from one of your 153 PDF files.\n",
    "\n",
    "#### Implications for your RAG Pipeline:\n",
    "- The choice between these loaders (and their output granularity) has significant implications for your RAG pipeline:\n",
    "    - UnstructuredPDFLoader (Document-level chunks):\n",
    "        - Pros: Good for maintaining broad context if you want to retrieve large sections or entire small documents at once. Often better at handling complex layouts or scanned documents (especially with hi_res).\n",
    "        - Cons: If your PDFs are very long, a single Document object might exceed the LLM's context window. You'll definitely need a RecursiveCharacterTextSplitter afterwards to break these large documents into smaller, manageable chunks for your vector store.\n",
    "\n",
    "#### PyMuPDFLoader (Page-level chunks):\n",
    "- Pros: Provides immediate, smaller, page-level chunks, which are often a good starting point for RAG. Each chunk comes with clear page metadata. Generally faster for basic text extraction from well-formed PDFs.\n",
    "- Cons: Might not handle complex layouts, tables, or scanned PDFs as robustly as unstructured. You might still need a RecursiveCharacterTextSplitter if individual pages are too long for your LLM's context window, or if you want to split pages further semantically."
   ]
  },
  {
   "cell_type": "code",
   "execution_count": 8,
   "id": "271ab7c8",
   "metadata": {},
   "outputs": [
    {
     "name": "stdout",
     "output_type": "stream",
     "text": [
      "Loaded 966 documents from 153 files.\n"
     ]
    }
   ],
   "source": [
    "# How to load multiple PDFs with PyMuPDFLoader\n",
    "from langchain_community.document_loaders import PyMuPDFLoader\n",
    "\n",
    "pdf_paths = glob.glob(\"../Data/*.pdf\")  # list all pdf files\n",
    "\n",
    "pymu_documents = []\n",
    "for path in pdf_paths:\n",
    "    loader = PyMuPDFLoader(path)\n",
    "    docs = loader.load()\n",
    "    pymu_documents.extend(docs)\n",
    "\n",
    "print(f\"Loaded {len(pymu_documents)} documents from {len(pdf_paths)} files.\")\n",
    "# print(documents[0].metadata['source'])  # Display the source of the first document\n",
    "\n",
    "pymupdf_loader_docs = documents.copy()"
   ]
  },
  {
   "cell_type": "code",
   "execution_count": 9,
   "id": "ffa17d67",
   "metadata": {},
   "outputs": [
    {
     "name": "stdout",
     "output_type": "stream",
     "text": [
      "All unique metadata keys: {'source'}\n"
     ]
    }
   ],
   "source": [
    "all_keys = set()\n",
    "for doc in documents:\n",
    "    all_keys.update(doc.metadata.keys())\n",
    "print(f\"All unique metadata keys: {all_keys}\")"
   ]
  },
  {
   "cell_type": "code",
   "execution_count": 10,
   "id": "c8f62108",
   "metadata": {},
   "outputs": [
    {
     "name": "stdout",
     "output_type": "stream",
     "text": [
      "Loaded 966 documents from 153 files using PyPDFLoader.\n"
     ]
    }
   ],
   "source": [
    "from langchain_community.document_loaders import PyPDFLoader # Use PyPDFLoader\n",
    "\n",
    "pdf_files = glob.glob(\"../Data/*.pdf\")\n",
    "documents = []\n",
    "\n",
    "for file_path in pdf_files:\n",
    "    loader = PyPDFLoader(file_path) # No strategy needed for PyPDFLoader\n",
    "    docs = loader.load()\n",
    "    documents.extend(docs)\n",
    "\n",
    "print(f\"Loaded {len(documents)} documents from {len(pdf_files)} files using PyPDFLoader.\")\n",
    "\n",
    "pypdf_loader_docs = documents.copy()"
   ]
  },
  {
   "cell_type": "code",
   "execution_count": 11,
   "id": "62355852",
   "metadata": {},
   "outputs": [
    {
     "name": "stdout",
     "output_type": "stream",
     "text": [
      "All unique metadata keys: {'author', 'creationdate--text', 'ptex.fullbanner', 'source', 'ieee article id', 'appligent', 'total_pages', 'icv', 'subject', 'ieee publication id', 'bidi.fullbanner', 'ieee issue id', 'meeting starting date', 'meeting ending date', 'trapped', 'pdfversion', 'company', 'page', 'page_label', 'moddate', 'ksoproductbuildver', 'keywords', 'sourcemodified', 'application', 'producer', 'creator', 'creationdate', 'ksotemplatedocersaverecord', 'title'}\n"
     ]
    }
   ],
   "source": [
    "all_keys = set()\n",
    "for doc in documents:\n",
    "    all_keys.update(doc.metadata.keys())\n",
    "print(f\"All unique metadata keys: {all_keys}\")\n",
    "\n",
    "# doc.page_content\n",
    "\n",
    "# from langchain_core.documents.base import Document\n",
    "\n",
    "# # Create a Document manually\n",
    "# doc = Documents(\n",
    "#     page_content=\"This is a sample page from a PDF.\",\n",
    "#     metadata={\"source\": \"file.pdf\", \"page\": 1}\n",
    "# )\n",
    "\n",
    "# print(doc.page_content)  # Output: This is a sample page from a PDF.\n",
    "# print(doc.metadata)      # Output: {'source': 'file.pdf', 'page': 1}"
   ]
  },
  {
   "cell_type": "markdown",
   "id": "c6b1fea8",
   "metadata": {},
   "source": [
    "## Multiple Loader Used"
   ]
  },
  {
   "cell_type": "code",
   "execution_count": 12,
   "id": "5289caa1",
   "metadata": {},
   "outputs": [
    {
     "name": "stdout",
     "output_type": "stream",
     "text": [
      "<class 'list'>\n",
      "<class 'list'>\n",
      "<class 'list'>\n",
      "<class 'list'>\n",
      "<class 'list'>\n"
     ]
    }
   ],
   "source": [
    "print(type(direct_loader_docs))\n",
    "print(type(direct_loader_unstructured_docs))\n",
    "print(type(direct_loader_unstructured_pdf_docs))\n",
    "print(type(pymupdf_loader_docs))\n",
    "print(type(pypdf_loader_docs))"
   ]
  },
  {
   "cell_type": "code",
   "execution_count": 13,
   "id": "8bcaface",
   "metadata": {},
   "outputs": [
    {
     "name": "stdout",
     "output_type": "stream",
     "text": [
      "153\n",
      "153\n",
      "153\n",
      "153\n",
      "966\n"
     ]
    }
   ],
   "source": [
    "print(len(direct_loader_docs))\n",
    "print(len(direct_loader_unstructured_docs))\n",
    "print(len(direct_loader_unstructured_pdf_docs))\n",
    "print(len(pymupdf_loader_docs))\n",
    "print(len(pypdf_loader_docs))"
   ]
  },
  {
   "cell_type": "code",
   "execution_count": 16,
   "id": "cd129e90",
   "metadata": {},
   "outputs": [
    {
     "data": {
      "text/plain": [
       "'A Comparison ofPipelined RAG-n and DA FPGA- based Multiplierless Filters\\n\\nUwe Meyer-Baese The Department ofECE FAMU-FSU College ofEng. Tallahassee, FL USA Email: umb -eng.fsu.edu\\n\\nJiajia Chen, Chip Hong Chang Nanyang Technological University School ofEE Engineering Blk S2,Nanyang Avenue, Singapore Email: {chenO183,echchang}gntu.edu.sg\\n\\nAndrew G. Dempster The School ofSurveying and Spatial Information Systems University ofNew South Wales Sydney 2052, Australia Email:a.dempstergunsw.edu.au\\n\\nAbstract The paper starts with an overview of distributed arithmetic (DA) and n-dimensional reduced adder graph (RAG-n) multiplierless filter design methods. Since DA designs are table-based and RAG-n designs are adder-based, FPGA synthesis design data are used for a realistic comparison. Benchmark FIR filters [1-4] of length 11 to 63 are compiled. For a wide set ofrealistic design examples, it will be shown that pipelined RAG-n designs achieve on average a gain of 71% in performance a 56% area, improvement in cost compared with DA-based designs.\\n\\nequivalent\\n\\nin\\n\\nspeed,\\n\\nand\\n\\nheuristics are applied. The full 10-step RAG-n algorithm is [5]. To illustrate the RAG-n algorithm, summarized in consider the coefficients defining the F5 halfband FIR filter of Goodman and Carey [1]. For the halfband F5 filter in direct form, using a CSD code, 9 adders are required. Ifthe transposed filter and RAG-n algorithms are used, the number of adders is reduced from 9 to 3. Fig. 1 shows the resulting reduced-adder graph for the design ofthe F5 filter.\\n\\nI.\\n\\nINTRODUCTION\\n\\nField-programmable gate arrays (FPGAs) are on the verge of revolutionizing digital signal processing. Many front-end digital signal processing (DSP) algorithms, such as FFTs, multi channel filterbanks, or wavelets, to name just a few, previously built with ASICs or programmable digital signal processors, are now often replaced by FPGAs.\\n\\nII.\\n\\nMULTIPLIER BLOCK CODING AND THE RAG-N\\n\\nALGORITHM\\n\\nThere are only a few applications (e.g., adaptive filters) where a general programmable filter architecture is required. In many applications, the filters are linear time-invariant (LTI) systems, and the coefficients do not change over time. In this case, the hardware effort can essentially be reduced by exploiting the constant coefficient multiplier coding and adder (trees) used to implement the FIR filter multiplier block (see Fig. 1). The coefficients of the filter are f={3,0,- 25,0,150,256,150,0,-25,0,3}.\\n\\nIn several DSP systems it is found that multipliers share These multipliers can be combined in a the same input. multiplier block. The transposed FIR filter shown in Figure 1 is a typical example for a multiplier block. Dempster and Macleod [5] have introduced a systematic algorithm, which produce s an n-Dimensional Reduced Adder Graph (RAG-n) of a block multiplier. In general, however, finding the optimal RAG-n is an NP-hard problem. RAG-n determines in the first steps an optimal coding; for the suboptimal part,\\n\\nFig. 1. Pipelined RAG-n ofF5 [1].\\n\\nA.\\n\\nRAG-95s Let us first briefly clarify the algorithms and not-so- obvious steps of the original RAG-95 [5]: In Step 1 all coefficients are reduced to positive odd fundamentals, since this maximizes the number ofpartial sums, and the negative signs ofthe coefficients are implemented in the output adder taps ofthe filter. This works fine except in the unlikely case when all coefficients are negative. Then a sign complement operation has to be added to the filter output. In Step 5, all sums of two extended fundamentals are considered. It may happen that a final division is also required, i.e. g=(2ufl+/- 2vf2)/2w. Note that multiplication or division by power-of- two can be implemented by hardwired left and right shifts, respectively, incurring hardware resources. For instance, the coefficient set {7,105,53} in MAG coding required 1, 2, and 3 adders, respectively. In 7=8-1;105=7*15; synthesized RAG-n the 53=(105+1)/2, requiring only 3 adders in total but also a divide/right shift operation. In Step 7 an adder cost-2 coefficient is added, and the algorithm selects a non-output fundamental (NOF) with the smallest values. This is motivated by the fact that an additional small NOF will generate more additional coefficient than a larger NOF at no cost. For example, assume that the coefficient 45 needs to be\\n\\nwithout\\n\\nadditional\\n\\nset\\n\\nis\\n\\nas\\n\\n1555\\n\\n1-4244-0387-1/06/$20.00 (@2006 IEEE\\n\\nAuthorized licensed use limited to: DePaul University. Downloaded on July 02,2025 at 05:04:49 UTC from IEEE Xplore. Restrictions apply.\\n\\nadded and that an NOF value has to be decided upon. The NOF LUT lists all possible NOF values as 3, 5, 9, or 15. It can now be argued that if3 is selected, more coefficients are generated than if any other NOF is used, since 3, 6, 12, 24, 48,... can be generated without additional effort from NOF 3. Other NOF values, such as 15, can generate 15, 30, 45,... etc., so the choices towards producing other coefficients at no cost are significantly restricted.\\n\\nB. RAG-2005 Modifications\\n\\nCompared with the original algorithms only minor\\n\\nimprovements had been made over the years [4]:\\n\\nThe MAG LUT table used has been extended to 14- bit using the concept ofmultiplicative, additive, and leapfrog graphs (see [8,9]). All 32-MAG adder cost-4 graphs are now considered when computing the minimum NOF sum. Within 14 bits, only 2 coefficients (i.e. 14709, 15573) are of cost-5. As long as these coefficients are not used, the computed minimum NOF sum list will be optimally based on RAG-95. 7 all are now cost-2 i.e., a single considered. There are three such graphs, fundamental followed by an adder cost-2 factor, a sum of two fundamentals, and an adder cost-I factor, or a sum of 3 fundamentals.\\n\\n\\n\\nIn\\n\\nStep\\n\\nadder graphs\\n\\nThe last improvement is based on the adder cost-2 selection that sometimes produced suboptimal results in the RAG-95 algorithm where multiple adder cost-2 coefficients have to be implemented. For instance, for the coefficient set {13, 59, 479} the minimum NOFs values used by RAG-95 are {3, 5, 7} because 13=4*3+1; 59=64-5; 479=59*8+7, giving a solution with 6 adders. If the NOF {15} is chosen instead, then all the coefficients (13=15-2; 59=15*4-1; and RAG-05 requires only 4 adders, a 15*32-1) benefit, 30% improvement. Therefore, instead of selecting the smallest NOF for the smallest adder cost-2 coefficient, a search for the best NOF is done over all adder cost-2 coefficients.\\n\\n\\n\\nC. RAG-2005 Benchmarks\\n\\nAlthough the RAG-n algorithm has been in use for quite some time, a large set ofreliable benchmark data that can be verified and reproduced has not been produced. In a recent paper by Wang and Roy [6], for instance, 60% of the comparison RAG-n data were declared \"unknown.\" A benchmark should cover filters used in practical applications that are widely published or can easily be computed. Less useful is a generation of \"random\" number filter coefficients that (a) cannot be verified by a third party, and (b) are ofno practical relevance. The problem with the RAG-n benchmark data is that the heuristic part may give different results depending on the exact software implementation or the NOF table in use. In addition, since some filters are rather long, a benchmark that lists the whole RAG-n is not practical in most cases. It is therefore suggested that a benchmark based on the following equivalence transformation be used:\\n\\nTheorem 1: Let S1 be a coefficient set that can be synthesized by RAG-n with a set ofF1 output fundamentals and N1 non-output fundamentals, (i.e., internal auxiliary coefficients). A congruent RAG-n is synthesized if a coefficient set S2 is used that contains both output and non output fundamentals from setS1. The proof of Theorem 1\\n\\nis based on the minimum number of adders of both sets. A corollary of Theorem 1 is that graphs can now be classified as (guaranteed) optimal and heuristic graphs. An optimal graph has no more than 1 NOF, while a heuristic graph has more than 1 NOF. It is only required to provide a list ofthe NOFs that describe a unique OF graph. Ifthis set ofNOFs is added to the coefficient set, all OFs are synthesized via the optimal part ofthe algorithm that can easily be programmed. This program will in fact be available for downloading from the author webpage as soon as possible. Some example benchmarks are given in Table I, where L is the filter length. Note that the number of CSD adders given has already taken advantage of coefficient symmetry, i.e. J(k)=AL-k). Common sub-expression (CSE) data are used from [6]. It can be seen that the examples from Samueli and Lim & Parker all produce optimal RAG-n results. Notice, particularly for long filters, the improvement ofRAG-n compared to CSD and CSE adders. Filters F7 and F9 are from the Goodman & Carey [1] set ofhalfband filters and were improved using RAG-2005. The benchmark data from Samueli [2] and Lim & Parker [3] work very well for RAG-n since the filters are lowpass and therefore taper smoothly to zero at both sides, improving the likelihood of an adder cost-I OF, which increases the likelihood of optimality.\\n\\nTABLE I.\\n\\nREQUIRED NUMBER OF ADDERS FOR CSD, CSE,\\n\\nAND RAG ALGORITHMS FOR LOWPASS FILTERS\\n\\nN 0 F 0 1 1 2 4 0 0 1 0 0\\n\\nRA G 95 3 5 5 7 1 1 6 26 52 22 5\\n\\nFilt er F5 F6 F7 F8 F9 S1 S2 LI L2 L3 A more challenging benchmark is the filter required in\\n\\nCS E -\\n\\n0 F 3 4 3 5 5 6 26 51 22 5\\n\\nRA G 05 3 5 4 7 9 6 26 52 22 5\\n\\nL 11 11 11 15 19 25 60 121 63 36\\n\\nCSD 6 9 7 10 14 11 57 145 49 16\\n\\nNOF - 3 23 11,17 13,1261 -\\n\\n\\n\\n\\n\\n\\n\\n\\n\\n6 29 57 23 5\\n\\n49 -\\n\\n\\n\\nthe Rader DFT algorithm\\n\\nX[g\" mod L]\\n\\n=\\n\\nx[0] + I x[g mod L]W,\\n\\nn=O\\n\\nWN-cos(2Jtkn/L)-jsin(2itkn/L)\\n\\nprime. where Equation (1) converts a DFT computation into a filter operation. This filter does not have many small coefficients as the lowpass filter and is therefore more difficult for RAG-\\n\\nand L is\\n\\n1556\\n\\nAPCCAS 2006\\n\\nAuthorized licensed use limited to: DePaul University. Downloaded on July 02,2025 at 05:04:49 UTC from IEEE Xplore. Restrictions apply.\\n\\n(1)\\n\\nn to be synthesized. The required 2L-2 filter coefficients the C (without = round( (1 << B) programming language as: f [kI * cos(2*M PI*k/L));f[k+L-1 =-round((1 << B) *sin(2*M PI*k/L) ); For instance, with L=7 and B=14 the coefficients are:ft{ 10215, -3646, -14761, -14761, -3646, 10215, -12810, -15973, -7109, 7109, 15973, 12810}. The set has 6 OFs, and 7 NOFs, or a total of 13 adders that are required for its implementation using RAG-n. Table II shows the data ofRader DFT filters [4] with 8 to 14 bits and 7 to 127 taps that use NOFs (see Theorem 1).\\n\\nRader\\n\\npermutation)\\n\\nare\\n\\ncoded\\n\\nin\\n\\nTABLE II.\\n\\nREQUIRED NUMBER OF ADDERS FOR CSD AND\\n\\nRAG ALGORITHMS FOR RADERDFT FILTERS\\n\\nproviding maximum speed in an FPGA. The second limitation is that for L coefficients; L clock cycles are required for the computation of the SOP output. This limitation, however, can be overcome by implementing a LUT for each bit b of the input data word. These two modifications allow DA-based filters to run at high speed, and FPGA vendors in general prefer distributed arithmetic- (DA)-based filter are characterized by: (a) fully pipelined architecture, (b) a short compilation time, (c) good resource estimation, and (d) area independent results from the coefficient adder cost. DA- based filters do not require any coefficient optimization or the computation of a RAG-n graph that may be time consuming when the coefficient set is large. DA-based code generation, including all VHDL code and testbenches, is done in a few seconds using the vendors FIR compilers [7].\\n\\ngenerators\\n\\nsince\\n\\nthese\\n\\ndesigns\\n\\nL\\n\\n7\\n\\n7\\n\\n7\\n\\n7\\n\\n17 17\\n\\n17\\n\\n31\\n\\n31\\n\\n61\\n\\nB\\n\\n8 10\\n\\n12\\n\\n14\\n\\n10\\n\\n12\\n\\n14\\n\\n12\\n\\n14\\n\\n12\\n\\nCSD 24 32\\n\\n42\\n\\n52\\n\\n94 118\\n\\n138\\n\\n206\\n\\n244\\n\\n402\\n\\nN\\n\\n#0 RAG\\n\\nOF F 1 4\\n\\n6\\n\\n6\\n\\n95\\n\\n7 10\\n\\n6\\n\\n5\\n\\n12\\n\\n6\\n\\n7\\n\\n13\\n\\n15\\n\\n2\\n\\n17\\n\\n16\\n\\n5\\n\\n22\\n\\n16\\n\\n7\\n\\n28\\n\\n29\\n\\n3\\n\\n33\\n\\n30\\n\\n8\\n\\n42\\n\\n60\\n\\n1\\n\\n61\\n\\nRA G05\\n\\n7 10\\n\\n11\\n\\n13\\n\\n17\\n\\n21\\n\\n23\\n\\n32\\n\\n38\\n\\n61\\n\\nNOF 3 5,7,11,13 7, 15,71, 103, 1841 7,11,3 1,59, 101, 177,319\\n\\n17,21 3,17,23,121,551 3,35,103,415,11 53,1249,8051 3, 5, 123 3,9,133,797,877 975,1179,3235 5 5,39,51,205,265 3211 5\\n\\nIV. FPGA IMPLEMENTATION RESULTS With the NRE cost ofcell-based ASICs reaching $4M for the 60nm process, FPGAs have become the dominating implementation vehicle for most DSP designs. The fully pipelined DA filters were generated using Altera\\'s FIR filter compiler [7]. The circuits were then synthesized from their VHDL descriptions and optimized for speed using Quartus synthesis tools from Altera. The core element of an FPGA is a logic element (LE) that contains an LUT and a register. The LE can be configured as a 24xl table (as used for DA) or in the arithmetic mode as two 23xl tables to implement a full adder used an EP2C35F672C6ES, a popular device from the Cyclone II DSP development board. The device has 33216 LEs much more than is actually needed for the largest filter design to ensure that the limitation in resources will not have a negative effect on the filter performance.\\n\\ncell.\\n\\nThe device\\n\\nin\\n\\nthis\\n\\npaper\\n\\nis\\n\\n61 127\\n\\n14\\n\\n14\\n\\n496\\n\\n1060\\n\\n60\\n\\n125\\n\\n6 1\\n\\n71\\n\\n126\\n\\n66\\n\\n126\\n\\n5\\n\\nDISTRIBUTED ARITHMETIC Distributed Arithmetic (DA) is a different approach used to compute the sum-of-product compared with a standard M\\\\AC approach standard M\\\\AC [4]. approach, in each operation a coefficient and a data word are multiplied. In DA, however, one coefficient is multiplied with a single bit from all data words in one operation, i.e.,\\n\\nIII.\\n\\nthe\\n\\nIn\\n\\nL-1\\n\\nB-1\\n\\nL-1\\n\\ny = Z c[n]x[n] = Z 2b x Z f(c[n],xb[n]),\\n\\nn=O0\\n\\nb=O\\n\\nn=O\\n\\nwhere xb[n] describes the bit b of data word n, and the function I(c[n],xb[n]) is usually implemented via a look-up table (LUT). One limitation ofthe techniques seems to be the LUT requirement that grows exponentially with the number of inputs, i.e., the number of taps. This limitation can be overcome by using table partitioning, i.e., an LUT table with 2N inputs can be split up into 2 LUTs with N inputs and an addition adder at the output. Both the LUT and adder tree in the case of more than 2 parallel LUT can be pipelined fully,\\n\\n(2)\\n\\nPipelining the RAG-n\\n\\nA. Due to the logic delay in the RAG-n running through several adders, the resulting register performance of the design is not very high even for a small graph. A single register placed at the output ofthe RAG already provides a speed improvement of 50% when compared with the non- pipelined design (210.22 MHz versus 148.39 MHz for F5). For the fully pipelined design for F5, one needs to build: x3<=2*x+x; x25<=x3*8 + x*z-1; x75<=x25*2+x25, i.e., one extra pipeline register is used in building x25, and a maximum delay of 3 pipeline stages is needed. Fig. 1 shows the resulting F5 fully pipelined graph for F5 using MatLab/Simulink blocks. Notice that additional registers are introduced to implement the pipeline retiming, i.e., the multiplier outputs are aligned according to their pipeline stages. In this halfband filter design the pipeline retiming synthesis results reveal that the design now runs at 323 MHz, which is about the maximum performance that can be achieved with this device family.\\n\\nAPCCAS 2006\\n\\n1557\\n\\nAuthorized licensed use limited to: DePaul University. Downloaded on July 02,2025 at 05:04:49 UTC from IEEE Xplore. Restrictions apply.\\n\\nVariation ofthe Input Bitwidth When it comes to scaling of the design by data input bitwidth, the RAG-n approach area measured in LEs increases only linearly. The register performance decreases due to the overall longer adder delays of the design. In the DA design not only are twice as many LEs needed to implement the LUT, but additional adders are also required for the adder tree to achieve a high throughput. Overall it can be concluded from Table III that the fully pipelined RAG-n provides a cost gain between 78%-130% when the input bitwidth changes from 8 to 32 bits with about the same register performance as the DA filters.\\n\\nB.\\n\\ngreater advantages if there are many large coefficients that require many adders in the MAG coding.\\n\\nTABLE IV.\\n\\nSIZE, SPEED, AND COST COMPARISON\\n\\nFilter\\n\\nRAG-n: pipe 0/max LEs F_\\n\\nF_ (MHz)\\n\\nLEs\\n\\n|\\n\\nLEs\\n\\nParallel DA_\\n\\nF_ (MHz)\\n\\nLEs FmSx\\n\\n_\\n\\nF5\\n\\n196 216\\n\\n148.4 323.3\\n\\n1.32 ___ 396 0.67\\n\\n332.3\\n\\n1.19\\n\\nF8\\n\\n326 360\\n\\n135.8 323.4\\n\\n2.40 1.11\\n\\n570\\n\\n340.7\\n\\n1.67\\n\\nTABLE III.\\n\\nCOST VERSUS INPUT BITWIDTH\\n\\nF9\\n\\n461 534\\n\\n97.2 304.0\\n\\n4.74 1.76\\n\\n717\\n\\n326.2\\n\\n2.20\\n\\nBn Ls LEs\\n\\nBin\\n\\n8\\n\\n216\\n\\n16 24\\n\\n343 471\\n\\n32\\n\\n599\\n\\nRAG-n F ~ (MHz)\\n\\n323\\n\\n301 254\\n\\n227\\n\\nLEs F- 0.67\\n\\n1.14 1.85\\n\\n2.63\\n\\nLEs\\n\\n396\\n\\n751 1086\\n\\n1479\\n\\nParallel DA __| LEs F\\n\\nF ~ MHz\\n\\n332\\n\\n1.19\\n\\n298 261\\n\\n2.52 4.15\\n\\n241\\n\\n6.12\\n\\nGain%\\n\\n78.35\\n\\n120.92 124.41\\n\\n132.40\\n\\nSi\\n\\nL3\\n\\nS2\\n\\n460 492\\n\\n651 671\\n\\n1672 1745\\n\\n130.6 296.6\\n\\n205.3\\n\\n310.3\\n\\n129.9 252.9\\n\\n3.52 1.66\\n\\n3.17\\n\\n2.16\\n\\n12.86 6.90\\n\\n985\\n\\n1406\\n\\n2834\\n\\n356.5\\n\\n321.3\\n\\n289.0\\n\\n2.76\\n\\n4.38\\n\\n9.81\\n\\nC FPGA BenchmarkData\\n\\nIn order to create a reliable set of data, a larger set of filters has been designed using VHDL for fully pipelined RAG-n and using the FIR core compiler from Altera that implements a full parallel DA filter [7]. Table IV shows the results for 3 halfband filters from Goodman and Carey, two ofthe Samueli filters, and two ofthe Lim & Parker filters. It can be seen that the RAG-n filters on average enjoy size reductions of 71%, the registered performance of the DA cost expressed as filter LEs/Fmax is on average 56% better for RAG-n based designs when a fully pipeline approach is used. It can also be seen from Table IV that without pipelining (pipe=O) the DA- based approach gives better results. With 6% increase in area, the cost for RAG-n pipelining is quite reasonable.\\n\\nis 8% better, and the overall\\n\\nV.\\n\\nCONCLUSION\\n\\nThis paper shows that RAG-n is a viable approach to the FPGA implementation of filters when the multiplier block is implemented with a fully pipelined reduced adder graph. Full pipelining increases the area by 6 %, the speed by 111% over the non-pipeline cost expressed as LEs/Fmax is improved by 93%. Compared with the DA-based designs this paper has demonstrated the registered substantial in performance resulting in overall better cost matrices.\\n\\nimplementation,\\n\\nand the\\n\\noverall\\n\\nreduction\\n\\nsize,\\n\\nsustained\\n\\nFurther studies will be directed towards a combination of DA and RAG-n methods, since RAG-n works best when many small coefficients are available, while DA offers\\n\\nL2\\n\\nMeanO\\n\\n1446 1531 745\\n\\n134.9 265.5\\n\\n140.3\\n\\n10.72 5.77 5.53\\n\\n__l\\n\\n2590\\n\\n282.4\\n\\n_\\n\\n9.17\\n\\nMean Gain %r,ail\\n\\n793\\n\\n6\\n\\n296.6\\n\\n111\\n\\n2.86\\n\\n93\\n\\n1357\\n\\n71\\n\\n321.2\\n\\n8\\n\\n4.45\\n\\n56\\n\\nREFERENCES\\n\\n[1]\\n\\n[2]\\n\\n[3]\\n\\n[4]\\n\\n[5]\\n\\n[6]\\n\\n[7]\\n\\n[8]\\n\\n[9]\\n\\nD.J. Goodman, M.J. Carey, \"Nine Digital Filters for Decimation and Interpolation,\" IEEE Transactions on ASSP, pp. 121-126, April 1977. H. Samueli, \"An Improved Search Algorithm for the Design of Multiplierless FIR Filters with Powers-of-Two Coefficientss of,\" IEEE Transactions on C&S, vol. 36, pp. 1044-1047, July 1989. Y. Lim and S. Parker, \"Discrete Coefficient FIR Digital Filter Design Based Upon an LMS Criteria,\" IEEE Transactions on C&S, vol. 36, pp. 723-739, October 1983. U. Meyer-Baese, Digital Signal Processing with Field Programmable Gate Arrays, 2rd ed., Heidelberg: Springer, 2004, pp.251-257. A. Dempster, M. Macleod, \"Use of Minimum-Adder Multiplier Blocks in FIR Digital Filters,\" IEEE Transactions on C&S II, vol. 42, pp. 569-577, September 1995. Y. Wang, K. Roy, \\'CSDC: A New Complexity Reduction Technique for Multiplierless Implementation of Digital FIR Filters,\" IEEE Transactions on C&S I, vol. 52, pp. 1845-1852, September 2005. Altera Corp., \\'FIR Compiler: MegaCore Function User Guide\" Ver. 3.1.0, June 2004. Dempster, A.G. and M.D. Macleod, \"Constant integer multiplication using minimum adders\", IEE Proceedings - Circuits, Devices & Systems, 141(5):407-413, October 1994. 0. Gustafsson, A. Dempster and L Wanhammer, \"Extended Results for Minimum-Adder Constant Integer Multipliers\", Proc ISCAS 2002, Phoenix, pp. 73-76, May 2002.\\n\\n1558\\n\\nAPCCAS 2006\\n\\nAuthorized licensed use limited to: DePaul University. Downloaded on July 02,2025 at 05:04:49 UTC from IEEE Xplore. Restrictions apply.'"
      ]
     },
     "execution_count": 16,
     "metadata": {},
     "output_type": "execute_result"
    }
   ],
   "source": [
    "direct_loader_docs[1].page_content"
   ]
  },
  {
   "cell_type": "code",
   "execution_count": 17,
   "id": "febc3dd4",
   "metadata": {},
   "outputs": [
    {
     "data": {
      "text/plain": [
       "'A Comparison ofPipelined RAG-n and DA FPGA- based Multiplierless Filters\\n\\nUwe Meyer-Baese The Department ofECE FAMU-FSU College ofEng. Tallahassee, FL USA Email: umb -eng.fsu.edu\\n\\nJiajia Chen, Chip Hong Chang Nanyang Technological University School ofEE Engineering Blk S2,Nanyang Avenue, Singapore Email: {chenO183,echchang}gntu.edu.sg\\n\\nAndrew G. Dempster The School ofSurveying and Spatial Information Systems University ofNew South Wales Sydney 2052, Australia Email:a.dempstergunsw.edu.au\\n\\nAbstract The paper starts with an overview of distributed arithmetic (DA) and n-dimensional reduced adder graph (RAG-n) multiplierless filter design methods. Since DA designs are table-based and RAG-n designs are adder-based, FPGA synthesis design data are used for a realistic comparison. Benchmark FIR filters [1-4] of length 11 to 63 are compiled. For a wide set ofrealistic design examples, it will be shown that pipelined RAG-n designs achieve on average a gain of 71% in performance a 56% area, improvement in cost compared with DA-based designs.\\n\\nequivalent\\n\\nin\\n\\nspeed,\\n\\nand\\n\\nheuristics are applied. The full 10-step RAG-n algorithm is [5]. To illustrate the RAG-n algorithm, summarized in consider the coefficients defining the F5 halfband FIR filter of Goodman and Carey [1]. For the halfband F5 filter in direct form, using a CSD code, 9 adders are required. Ifthe transposed filter and RAG-n algorithms are used, the number of adders is reduced from 9 to 3. Fig. 1 shows the resulting reduced-adder graph for the design ofthe F5 filter.\\n\\nI.\\n\\nINTRODUCTION\\n\\nField-programmable gate arrays (FPGAs) are on the verge of revolutionizing digital signal processing. Many front-end digital signal processing (DSP) algorithms, such as FFTs, multi channel filterbanks, or wavelets, to name just a few, previously built with ASICs or programmable digital signal processors, are now often replaced by FPGAs.\\n\\nII.\\n\\nMULTIPLIER BLOCK CODING AND THE RAG-N\\n\\nALGORITHM\\n\\nThere are only a few applications (e.g., adaptive filters) where a general programmable filter architecture is required. In many applications, the filters are linear time-invariant (LTI) systems, and the coefficients do not change over time. In this case, the hardware effort can essentially be reduced by exploiting the constant coefficient multiplier coding and adder (trees) used to implement the FIR filter multiplier block (see Fig. 1). The coefficients of the filter are f={3,0,- 25,0,150,256,150,0,-25,0,3}.\\n\\nIn several DSP systems it is found that multipliers share These multipliers can be combined in a the same input. multiplier block. The transposed FIR filter shown in Figure 1 is a typical example for a multiplier block. Dempster and Macleod [5] have introduced a systematic algorithm, which produce s an n-Dimensional Reduced Adder Graph (RAG-n) of a block multiplier. In general, however, finding the optimal RAG-n is an NP-hard problem. RAG-n determines in the first steps an optimal coding; for the suboptimal part,\\n\\nFig. 1. Pipelined RAG-n ofF5 [1].\\n\\nA.\\n\\nRAG-95s Let us first briefly clarify the algorithms and not-so- obvious steps of the original RAG-95 [5]: In Step 1 all coefficients are reduced to positive odd fundamentals, since this maximizes the number ofpartial sums, and the negative signs ofthe coefficients are implemented in the output adder taps ofthe filter. This works fine except in the unlikely case when all coefficients are negative. Then a sign complement operation has to be added to the filter output. In Step 5, all sums of two extended fundamentals are considered. It may happen that a final division is also required, i.e. g=(2ufl+/- 2vf2)/2w. Note that multiplication or division by power-of- two can be implemented by hardwired left and right shifts, respectively, incurring hardware resources. For instance, the coefficient set {7,105,53} in MAG coding required 1, 2, and 3 adders, respectively. In 7=8-1;105=7*15; synthesized RAG-n the 53=(105+1)/2, requiring only 3 adders in total but also a divide/right shift operation. In Step 7 an adder cost-2 coefficient is added, and the algorithm selects a non-output fundamental (NOF) with the smallest values. This is motivated by the fact that an additional small NOF will generate more additional coefficient than a larger NOF at no cost. For example, assume that the coefficient 45 needs to be\\n\\nwithout\\n\\nadditional\\n\\nset\\n\\nis\\n\\nas\\n\\n1555\\n\\n1-4244-0387-1/06/$20.00 (@2006 IEEE\\n\\nAuthorized licensed use limited to: DePaul University. Downloaded on July 02,2025 at 05:04:49 UTC from IEEE Xplore. Restrictions apply.\\n\\nadded and that an NOF value has to be decided upon. The NOF LUT lists all possible NOF values as 3, 5, 9, or 15. It can now be argued that if3 is selected, more coefficients are generated than if any other NOF is used, since 3, 6, 12, 24, 48,... can be generated without additional effort from NOF 3. Other NOF values, such as 15, can generate 15, 30, 45,... etc., so the choices towards producing other coefficients at no cost are significantly restricted.\\n\\nB. RAG-2005 Modifications\\n\\nCompared with the original algorithms only minor\\n\\nimprovements had been made over the years [4]:\\n\\nThe MAG LUT table used has been extended to 14- bit using the concept ofmultiplicative, additive, and leapfrog graphs (see [8,9]). All 32-MAG adder cost-4 graphs are now considered when computing the minimum NOF sum. Within 14 bits, only 2 coefficients (i.e. 14709, 15573) are of cost-5. As long as these coefficients are not used, the computed minimum NOF sum list will be optimally based on RAG-95. 7 all are now cost-2 i.e., a single considered. There are three such graphs, fundamental followed by an adder cost-2 factor, a sum of two fundamentals, and an adder cost-I factor, or a sum of 3 fundamentals.\\n\\n\\n\\nIn\\n\\nStep\\n\\nadder graphs\\n\\nThe last improvement is based on the adder cost-2 selection that sometimes produced suboptimal results in the RAG-95 algorithm where multiple adder cost-2 coefficients have to be implemented. For instance, for the coefficient set {13, 59, 479} the minimum NOFs values used by RAG-95 are {3, 5, 7} because 13=4*3+1; 59=64-5; 479=59*8+7, giving a solution with 6 adders. If the NOF {15} is chosen instead, then all the coefficients (13=15-2; 59=15*4-1; and RAG-05 requires only 4 adders, a 15*32-1) benefit, 30% improvement. Therefore, instead of selecting the smallest NOF for the smallest adder cost-2 coefficient, a search for the best NOF is done over all adder cost-2 coefficients.\\n\\n\\n\\nC. RAG-2005 Benchmarks\\n\\nAlthough the RAG-n algorithm has been in use for quite some time, a large set ofreliable benchmark data that can be verified and reproduced has not been produced. In a recent paper by Wang and Roy [6], for instance, 60% of the comparison RAG-n data were declared \"unknown.\" A benchmark should cover filters used in practical applications that are widely published or can easily be computed. Less useful is a generation of \"random\" number filter coefficients that (a) cannot be verified by a third party, and (b) are ofno practical relevance. The problem with the RAG-n benchmark data is that the heuristic part may give different results depending on the exact software implementation or the NOF table in use. In addition, since some filters are rather long, a benchmark that lists the whole RAG-n is not practical in most cases. It is therefore suggested that a benchmark based on the following equivalence transformation be used:\\n\\nTheorem 1: Let S1 be a coefficient set that can be synthesized by RAG-n with a set ofF1 output fundamentals and N1 non-output fundamentals, (i.e., internal auxiliary coefficients). A congruent RAG-n is synthesized if a coefficient set S2 is used that contains both output and non output fundamentals from setS1. The proof of Theorem 1\\n\\nis based on the minimum number of adders of both sets. A corollary of Theorem 1 is that graphs can now be classified as (guaranteed) optimal and heuristic graphs. An optimal graph has no more than 1 NOF, while a heuristic graph has more than 1 NOF. It is only required to provide a list ofthe NOFs that describe a unique OF graph. Ifthis set ofNOFs is added to the coefficient set, all OFs are synthesized via the optimal part ofthe algorithm that can easily be programmed. This program will in fact be available for downloading from the author webpage as soon as possible. Some example benchmarks are given in Table I, where L is the filter length. Note that the number of CSD adders given has already taken advantage of coefficient symmetry, i.e. J(k)=AL-k). Common sub-expression (CSE) data are used from [6]. It can be seen that the examples from Samueli and Lim & Parker all produce optimal RAG-n results. Notice, particularly for long filters, the improvement ofRAG-n compared to CSD and CSE adders. Filters F7 and F9 are from the Goodman & Carey [1] set ofhalfband filters and were improved using RAG-2005. The benchmark data from Samueli [2] and Lim & Parker [3] work very well for RAG-n since the filters are lowpass and therefore taper smoothly to zero at both sides, improving the likelihood of an adder cost-I OF, which increases the likelihood of optimality.\\n\\nTABLE I.\\n\\nREQUIRED NUMBER OF ADDERS FOR CSD, CSE,\\n\\nAND RAG ALGORITHMS FOR LOWPASS FILTERS\\n\\nN 0 F 0 1 1 2 4 0 0 1 0 0\\n\\nRA G 95 3 5 5 7 1 1 6 26 52 22 5\\n\\nFilt er F5 F6 F7 F8 F9 S1 S2 LI L2 L3 A more challenging benchmark is the filter required in\\n\\nCS E -\\n\\n0 F 3 4 3 5 5 6 26 51 22 5\\n\\nRA G 05 3 5 4 7 9 6 26 52 22 5\\n\\nL 11 11 11 15 19 25 60 121 63 36\\n\\nCSD 6 9 7 10 14 11 57 145 49 16\\n\\nNOF - 3 23 11,17 13,1261 -\\n\\n\\n\\n\\n\\n\\n\\n\\n\\n6 29 57 23 5\\n\\n49 -\\n\\n\\n\\nthe Rader DFT algorithm\\n\\nX[g\" mod L]\\n\\n=\\n\\nx[0] + I x[g mod L]W,\\n\\nn=O\\n\\nWN-cos(2Jtkn/L)-jsin(2itkn/L)\\n\\nprime. where Equation (1) converts a DFT computation into a filter operation. This filter does not have many small coefficients as the lowpass filter and is therefore more difficult for RAG-\\n\\nand L is\\n\\n1556\\n\\nAPCCAS 2006\\n\\nAuthorized licensed use limited to: DePaul University. Downloaded on July 02,2025 at 05:04:49 UTC from IEEE Xplore. Restrictions apply.\\n\\n(1)\\n\\nn to be synthesized. The required 2L-2 filter coefficients the C (without = round( (1 << B) programming language as: f [kI * cos(2*M PI*k/L));f[k+L-1 =-round((1 << B) *sin(2*M PI*k/L) ); For instance, with L=7 and B=14 the coefficients are:ft{ 10215, -3646, -14761, -14761, -3646, 10215, -12810, -15973, -7109, 7109, 15973, 12810}. The set has 6 OFs, and 7 NOFs, or a total of 13 adders that are required for its implementation using RAG-n. Table II shows the data ofRader DFT filters [4] with 8 to 14 bits and 7 to 127 taps that use NOFs (see Theorem 1).\\n\\nRader\\n\\npermutation)\\n\\nare\\n\\ncoded\\n\\nin\\n\\nTABLE II.\\n\\nREQUIRED NUMBER OF ADDERS FOR CSD AND\\n\\nRAG ALGORITHMS FOR RADERDFT FILTERS\\n\\nproviding maximum speed in an FPGA. The second limitation is that for L coefficients; L clock cycles are required for the computation of the SOP output. This limitation, however, can be overcome by implementing a LUT for each bit b of the input data word. These two modifications allow DA-based filters to run at high speed, and FPGA vendors in general prefer distributed arithmetic- (DA)-based filter are characterized by: (a) fully pipelined architecture, (b) a short compilation time, (c) good resource estimation, and (d) area independent results from the coefficient adder cost. DA- based filters do not require any coefficient optimization or the computation of a RAG-n graph that may be time consuming when the coefficient set is large. DA-based code generation, including all VHDL code and testbenches, is done in a few seconds using the vendors FIR compilers [7].\\n\\ngenerators\\n\\nsince\\n\\nthese\\n\\ndesigns\\n\\nL\\n\\n7\\n\\n7\\n\\n7\\n\\n7\\n\\n17 17\\n\\n17\\n\\n31\\n\\n31\\n\\n61\\n\\nB\\n\\n8 10\\n\\n12\\n\\n14\\n\\n10\\n\\n12\\n\\n14\\n\\n12\\n\\n14\\n\\n12\\n\\nCSD 24 32\\n\\n42\\n\\n52\\n\\n94 118\\n\\n138\\n\\n206\\n\\n244\\n\\n402\\n\\nN\\n\\n#0 RAG\\n\\nOF F 1 4\\n\\n6\\n\\n6\\n\\n95\\n\\n7 10\\n\\n6\\n\\n5\\n\\n12\\n\\n6\\n\\n7\\n\\n13\\n\\n15\\n\\n2\\n\\n17\\n\\n16\\n\\n5\\n\\n22\\n\\n16\\n\\n7\\n\\n28\\n\\n29\\n\\n3\\n\\n33\\n\\n30\\n\\n8\\n\\n42\\n\\n60\\n\\n1\\n\\n61\\n\\nRA G05\\n\\n7 10\\n\\n11\\n\\n13\\n\\n17\\n\\n21\\n\\n23\\n\\n32\\n\\n38\\n\\n61\\n\\nNOF 3 5,7,11,13 7, 15,71, 103, 1841 7,11,3 1,59, 101, 177,319\\n\\n17,21 3,17,23,121,551 3,35,103,415,11 53,1249,8051 3, 5, 123 3,9,133,797,877 975,1179,3235 5 5,39,51,205,265 3211 5\\n\\nIV. FPGA IMPLEMENTATION RESULTS With the NRE cost ofcell-based ASICs reaching $4M for the 60nm process, FPGAs have become the dominating implementation vehicle for most DSP designs. The fully pipelined DA filters were generated using Altera\\'s FIR filter compiler [7]. The circuits were then synthesized from their VHDL descriptions and optimized for speed using Quartus synthesis tools from Altera. The core element of an FPGA is a logic element (LE) that contains an LUT and a register. The LE can be configured as a 24xl table (as used for DA) or in the arithmetic mode as two 23xl tables to implement a full adder used an EP2C35F672C6ES, a popular device from the Cyclone II DSP development board. The device has 33216 LEs much more than is actually needed for the largest filter design to ensure that the limitation in resources will not have a negative effect on the filter performance.\\n\\ncell.\\n\\nThe device\\n\\nin\\n\\nthis\\n\\npaper\\n\\nis\\n\\n61 127\\n\\n14\\n\\n14\\n\\n496\\n\\n1060\\n\\n60\\n\\n125\\n\\n6 1\\n\\n71\\n\\n126\\n\\n66\\n\\n126\\n\\n5\\n\\nDISTRIBUTED ARITHMETIC Distributed Arithmetic (DA) is a different approach used to compute the sum-of-product compared with a standard M\\\\AC approach standard M\\\\AC [4]. approach, in each operation a coefficient and a data word are multiplied. In DA, however, one coefficient is multiplied with a single bit from all data words in one operation, i.e.,\\n\\nIII.\\n\\nthe\\n\\nIn\\n\\nL-1\\n\\nB-1\\n\\nL-1\\n\\ny = Z c[n]x[n] = Z 2b x Z f(c[n],xb[n]),\\n\\nn=O0\\n\\nb=O\\n\\nn=O\\n\\nwhere xb[n] describes the bit b of data word n, and the function I(c[n],xb[n]) is usually implemented via a look-up table (LUT). One limitation ofthe techniques seems to be the LUT requirement that grows exponentially with the number of inputs, i.e., the number of taps. This limitation can be overcome by using table partitioning, i.e., an LUT table with 2N inputs can be split up into 2 LUTs with N inputs and an addition adder at the output. Both the LUT and adder tree in the case of more than 2 parallel LUT can be pipelined fully,\\n\\n(2)\\n\\nPipelining the RAG-n\\n\\nA. Due to the logic delay in the RAG-n running through several adders, the resulting register performance of the design is not very high even for a small graph. A single register placed at the output ofthe RAG already provides a speed improvement of 50% when compared with the non- pipelined design (210.22 MHz versus 148.39 MHz for F5). For the fully pipelined design for F5, one needs to build: x3<=2*x+x; x25<=x3*8 + x*z-1; x75<=x25*2+x25, i.e., one extra pipeline register is used in building x25, and a maximum delay of 3 pipeline stages is needed. Fig. 1 shows the resulting F5 fully pipelined graph for F5 using MatLab/Simulink blocks. Notice that additional registers are introduced to implement the pipeline retiming, i.e., the multiplier outputs are aligned according to their pipeline stages. In this halfband filter design the pipeline retiming synthesis results reveal that the design now runs at 323 MHz, which is about the maximum performance that can be achieved with this device family.\\n\\nAPCCAS 2006\\n\\n1557\\n\\nAuthorized licensed use limited to: DePaul University. Downloaded on July 02,2025 at 05:04:49 UTC from IEEE Xplore. Restrictions apply.\\n\\nVariation ofthe Input Bitwidth When it comes to scaling of the design by data input bitwidth, the RAG-n approach area measured in LEs increases only linearly. The register performance decreases due to the overall longer adder delays of the design. In the DA design not only are twice as many LEs needed to implement the LUT, but additional adders are also required for the adder tree to achieve a high throughput. Overall it can be concluded from Table III that the fully pipelined RAG-n provides a cost gain between 78%-130% when the input bitwidth changes from 8 to 32 bits with about the same register performance as the DA filters.\\n\\nB.\\n\\ngreater advantages if there are many large coefficients that require many adders in the MAG coding.\\n\\nTABLE IV.\\n\\nSIZE, SPEED, AND COST COMPARISON\\n\\nFilter\\n\\nRAG-n: pipe 0/max LEs F_\\n\\nF_ (MHz)\\n\\nLEs\\n\\n|\\n\\nLEs\\n\\nParallel DA_\\n\\nF_ (MHz)\\n\\nLEs FmSx\\n\\n_\\n\\nF5\\n\\n196 216\\n\\n148.4 323.3\\n\\n1.32 ___ 396 0.67\\n\\n332.3\\n\\n1.19\\n\\nF8\\n\\n326 360\\n\\n135.8 323.4\\n\\n2.40 1.11\\n\\n570\\n\\n340.7\\n\\n1.67\\n\\nTABLE III.\\n\\nCOST VERSUS INPUT BITWIDTH\\n\\nF9\\n\\n461 534\\n\\n97.2 304.0\\n\\n4.74 1.76\\n\\n717\\n\\n326.2\\n\\n2.20\\n\\nBn Ls LEs\\n\\nBin\\n\\n8\\n\\n216\\n\\n16 24\\n\\n343 471\\n\\n32\\n\\n599\\n\\nRAG-n F ~ (MHz)\\n\\n323\\n\\n301 254\\n\\n227\\n\\nLEs F- 0.67\\n\\n1.14 1.85\\n\\n2.63\\n\\nLEs\\n\\n396\\n\\n751 1086\\n\\n1479\\n\\nParallel DA __| LEs F\\n\\nF ~ MHz\\n\\n332\\n\\n1.19\\n\\n298 261\\n\\n2.52 4.15\\n\\n241\\n\\n6.12\\n\\nGain%\\n\\n78.35\\n\\n120.92 124.41\\n\\n132.40\\n\\nSi\\n\\nL3\\n\\nS2\\n\\n460 492\\n\\n651 671\\n\\n1672 1745\\n\\n130.6 296.6\\n\\n205.3\\n\\n310.3\\n\\n129.9 252.9\\n\\n3.52 1.66\\n\\n3.17\\n\\n2.16\\n\\n12.86 6.90\\n\\n985\\n\\n1406\\n\\n2834\\n\\n356.5\\n\\n321.3\\n\\n289.0\\n\\n2.76\\n\\n4.38\\n\\n9.81\\n\\nC FPGA BenchmarkData\\n\\nIn order to create a reliable set of data, a larger set of filters has been designed using VHDL for fully pipelined RAG-n and using the FIR core compiler from Altera that implements a full parallel DA filter [7]. Table IV shows the results for 3 halfband filters from Goodman and Carey, two ofthe Samueli filters, and two ofthe Lim & Parker filters. It can be seen that the RAG-n filters on average enjoy size reductions of 71%, the registered performance of the DA cost expressed as filter LEs/Fmax is on average 56% better for RAG-n based designs when a fully pipeline approach is used. It can also be seen from Table IV that without pipelining (pipe=O) the DA- based approach gives better results. With 6% increase in area, the cost for RAG-n pipelining is quite reasonable.\\n\\nis 8% better, and the overall\\n\\nV.\\n\\nCONCLUSION\\n\\nThis paper shows that RAG-n is a viable approach to the FPGA implementation of filters when the multiplier block is implemented with a fully pipelined reduced adder graph. Full pipelining increases the area by 6 %, the speed by 111% over the non-pipeline cost expressed as LEs/Fmax is improved by 93%. Compared with the DA-based designs this paper has demonstrated the registered substantial in performance resulting in overall better cost matrices.\\n\\nimplementation,\\n\\nand the\\n\\noverall\\n\\nreduction\\n\\nsize,\\n\\nsustained\\n\\nFurther studies will be directed towards a combination of DA and RAG-n methods, since RAG-n works best when many small coefficients are available, while DA offers\\n\\nL2\\n\\nMeanO\\n\\n1446 1531 745\\n\\n134.9 265.5\\n\\n140.3\\n\\n10.72 5.77 5.53\\n\\n__l\\n\\n2590\\n\\n282.4\\n\\n_\\n\\n9.17\\n\\nMean Gain %r,ail\\n\\n793\\n\\n6\\n\\n296.6\\n\\n111\\n\\n2.86\\n\\n93\\n\\n1357\\n\\n71\\n\\n321.2\\n\\n8\\n\\n4.45\\n\\n56\\n\\nREFERENCES\\n\\n[1]\\n\\n[2]\\n\\n[3]\\n\\n[4]\\n\\n[5]\\n\\n[6]\\n\\n[7]\\n\\n[8]\\n\\n[9]\\n\\nD.J. Goodman, M.J. Carey, \"Nine Digital Filters for Decimation and Interpolation,\" IEEE Transactions on ASSP, pp. 121-126, April 1977. H. Samueli, \"An Improved Search Algorithm for the Design of Multiplierless FIR Filters with Powers-of-Two Coefficientss of,\" IEEE Transactions on C&S, vol. 36, pp. 1044-1047, July 1989. Y. Lim and S. Parker, \"Discrete Coefficient FIR Digital Filter Design Based Upon an LMS Criteria,\" IEEE Transactions on C&S, vol. 36, pp. 723-739, October 1983. U. Meyer-Baese, Digital Signal Processing with Field Programmable Gate Arrays, 2rd ed., Heidelberg: Springer, 2004, pp.251-257. A. Dempster, M. Macleod, \"Use of Minimum-Adder Multiplier Blocks in FIR Digital Filters,\" IEEE Transactions on C&S II, vol. 42, pp. 569-577, September 1995. Y. Wang, K. Roy, \\'CSDC: A New Complexity Reduction Technique for Multiplierless Implementation of Digital FIR Filters,\" IEEE Transactions on C&S I, vol. 52, pp. 1845-1852, September 2005. Altera Corp., \\'FIR Compiler: MegaCore Function User Guide\" Ver. 3.1.0, June 2004. Dempster, A.G. and M.D. Macleod, \"Constant integer multiplication using minimum adders\", IEE Proceedings - Circuits, Devices & Systems, 141(5):407-413, October 1994. 0. Gustafsson, A. Dempster and L Wanhammer, \"Extended Results for Minimum-Adder Constant Integer Multipliers\", Proc ISCAS 2002, Phoenix, pp. 73-76, May 2002.\\n\\n1558\\n\\nAPCCAS 2006\\n\\nAuthorized licensed use limited to: DePaul University. Downloaded on July 02,2025 at 05:04:49 UTC from IEEE Xplore. Restrictions apply.'"
      ]
     },
     "execution_count": 17,
     "metadata": {},
     "output_type": "execute_result"
    }
   ],
   "source": [
    "direct_loader_unstructured_docs[1].page_content"
   ]
  },
  {
   "cell_type": "code",
   "execution_count": 18,
   "id": "90b18b77",
   "metadata": {},
   "outputs": [
    {
     "data": {
      "text/plain": [
       "'A Comparison ofPipelined RAG-n and DA FPGA- based Multiplierless Filters\\n\\nUwe Meyer-Baese The Department ofECE FAMU-FSU College ofEng. Tallahassee, FL USA Email: umb -eng.fsu.edu\\n\\nJiajia Chen, Chip Hong Chang Nanyang Technological University School ofEE Engineering Blk S2,Nanyang Avenue, Singapore Email: {chenO183,echchang}gntu.edu.sg\\n\\nAndrew G. Dempster The School ofSurveying and Spatial Information Systems University ofNew South Wales Sydney 2052, Australia Email:a.dempstergunsw.edu.au\\n\\nAbstract The paper starts with an overview of distributed arithmetic (DA) and n-dimensional reduced adder graph (RAG-n) multiplierless filter design methods. Since DA designs are table-based and RAG-n designs are adder-based, FPGA synthesis design data are used for a realistic comparison. Benchmark FIR filters [1-4] of length 11 to 63 are compiled. For a wide set ofrealistic design examples, it will be shown that pipelined RAG-n designs achieve on average a gain of 71% in performance a 56% area, improvement in cost compared with DA-based designs.\\n\\nequivalent\\n\\nin\\n\\nspeed,\\n\\nand\\n\\nheuristics are applied. The full 10-step RAG-n algorithm is [5]. To illustrate the RAG-n algorithm, summarized in consider the coefficients defining the F5 halfband FIR filter of Goodman and Carey [1]. For the halfband F5 filter in direct form, using a CSD code, 9 adders are required. Ifthe transposed filter and RAG-n algorithms are used, the number of adders is reduced from 9 to 3. Fig. 1 shows the resulting reduced-adder graph for the design ofthe F5 filter.\\n\\nI.\\n\\nINTRODUCTION\\n\\nField-programmable gate arrays (FPGAs) are on the verge of revolutionizing digital signal processing. Many front-end digital signal processing (DSP) algorithms, such as FFTs, multi channel filterbanks, or wavelets, to name just a few, previously built with ASICs or programmable digital signal processors, are now often replaced by FPGAs.\\n\\nII.\\n\\nMULTIPLIER BLOCK CODING AND THE RAG-N\\n\\nALGORITHM\\n\\nThere are only a few applications (e.g., adaptive filters) where a general programmable filter architecture is required. In many applications, the filters are linear time-invariant (LTI) systems, and the coefficients do not change over time. In this case, the hardware effort can essentially be reduced by exploiting the constant coefficient multiplier coding and adder (trees) used to implement the FIR filter multiplier block (see Fig. 1). The coefficients of the filter are f={3,0,- 25,0,150,256,150,0,-25,0,3}.\\n\\nIn several DSP systems it is found that multipliers share These multipliers can be combined in a the same input. multiplier block. The transposed FIR filter shown in Figure 1 is a typical example for a multiplier block. Dempster and Macleod [5] have introduced a systematic algorithm, which produce s an n-Dimensional Reduced Adder Graph (RAG-n) of a block multiplier. In general, however, finding the optimal RAG-n is an NP-hard problem. RAG-n determines in the first steps an optimal coding; for the suboptimal part,\\n\\nFig. 1. Pipelined RAG-n ofF5 [1].\\n\\nA.\\n\\nRAG-95s Let us first briefly clarify the algorithms and not-so- obvious steps of the original RAG-95 [5]: In Step 1 all coefficients are reduced to positive odd fundamentals, since this maximizes the number ofpartial sums, and the negative signs ofthe coefficients are implemented in the output adder taps ofthe filter. This works fine except in the unlikely case when all coefficients are negative. Then a sign complement operation has to be added to the filter output. In Step 5, all sums of two extended fundamentals are considered. It may happen that a final division is also required, i.e. g=(2ufl+/- 2vf2)/2w. Note that multiplication or division by power-of- two can be implemented by hardwired left and right shifts, respectively, incurring hardware resources. For instance, the coefficient set {7,105,53} in MAG coding required 1, 2, and 3 adders, respectively. In 7=8-1;105=7*15; synthesized RAG-n the 53=(105+1)/2, requiring only 3 adders in total but also a divide/right shift operation. In Step 7 an adder cost-2 coefficient is added, and the algorithm selects a non-output fundamental (NOF) with the smallest values. This is motivated by the fact that an additional small NOF will generate more additional coefficient than a larger NOF at no cost. For example, assume that the coefficient 45 needs to be\\n\\nwithout\\n\\nadditional\\n\\nset\\n\\nis\\n\\nas\\n\\n1555\\n\\n1-4244-0387-1/06/$20.00 (@2006 IEEE\\n\\nAuthorized licensed use limited to: DePaul University. Downloaded on July 02,2025 at 05:04:49 UTC from IEEE Xplore. Restrictions apply.\\n\\nadded and that an NOF value has to be decided upon. The NOF LUT lists all possible NOF values as 3, 5, 9, or 15. It can now be argued that if3 is selected, more coefficients are generated than if any other NOF is used, since 3, 6, 12, 24, 48,... can be generated without additional effort from NOF 3. Other NOF values, such as 15, can generate 15, 30, 45,... etc., so the choices towards producing other coefficients at no cost are significantly restricted.\\n\\nB. RAG-2005 Modifications\\n\\nCompared with the original algorithms only minor\\n\\nimprovements had been made over the years [4]:\\n\\nThe MAG LUT table used has been extended to 14- bit using the concept ofmultiplicative, additive, and leapfrog graphs (see [8,9]). All 32-MAG adder cost-4 graphs are now considered when computing the minimum NOF sum. Within 14 bits, only 2 coefficients (i.e. 14709, 15573) are of cost-5. As long as these coefficients are not used, the computed minimum NOF sum list will be optimally based on RAG-95. 7 all are now cost-2 i.e., a single considered. There are three such graphs, fundamental followed by an adder cost-2 factor, a sum of two fundamentals, and an adder cost-I factor, or a sum of 3 fundamentals.\\n\\n\\n\\nIn\\n\\nStep\\n\\nadder graphs\\n\\nThe last improvement is based on the adder cost-2 selection that sometimes produced suboptimal results in the RAG-95 algorithm where multiple adder cost-2 coefficients have to be implemented. For instance, for the coefficient set {13, 59, 479} the minimum NOFs values used by RAG-95 are {3, 5, 7} because 13=4*3+1; 59=64-5; 479=59*8+7, giving a solution with 6 adders. If the NOF {15} is chosen instead, then all the coefficients (13=15-2; 59=15*4-1; and RAG-05 requires only 4 adders, a 15*32-1) benefit, 30% improvement. Therefore, instead of selecting the smallest NOF for the smallest adder cost-2 coefficient, a search for the best NOF is done over all adder cost-2 coefficients.\\n\\n\\n\\nC. RAG-2005 Benchmarks\\n\\nAlthough the RAG-n algorithm has been in use for quite some time, a large set ofreliable benchmark data that can be verified and reproduced has not been produced. In a recent paper by Wang and Roy [6], for instance, 60% of the comparison RAG-n data were declared \"unknown.\" A benchmark should cover filters used in practical applications that are widely published or can easily be computed. Less useful is a generation of \"random\" number filter coefficients that (a) cannot be verified by a third party, and (b) are ofno practical relevance. The problem with the RAG-n benchmark data is that the heuristic part may give different results depending on the exact software implementation or the NOF table in use. In addition, since some filters are rather long, a benchmark that lists the whole RAG-n is not practical in most cases. It is therefore suggested that a benchmark based on the following equivalence transformation be used:\\n\\nTheorem 1: Let S1 be a coefficient set that can be synthesized by RAG-n with a set ofF1 output fundamentals and N1 non-output fundamentals, (i.e., internal auxiliary coefficients). A congruent RAG-n is synthesized if a coefficient set S2 is used that contains both output and non output fundamentals from setS1. The proof of Theorem 1\\n\\nis based on the minimum number of adders of both sets. A corollary of Theorem 1 is that graphs can now be classified as (guaranteed) optimal and heuristic graphs. An optimal graph has no more than 1 NOF, while a heuristic graph has more than 1 NOF. It is only required to provide a list ofthe NOFs that describe a unique OF graph. Ifthis set ofNOFs is added to the coefficient set, all OFs are synthesized via the optimal part ofthe algorithm that can easily be programmed. This program will in fact be available for downloading from the author webpage as soon as possible. Some example benchmarks are given in Table I, where L is the filter length. Note that the number of CSD adders given has already taken advantage of coefficient symmetry, i.e. J(k)=AL-k). Common sub-expression (CSE) data are used from [6]. It can be seen that the examples from Samueli and Lim & Parker all produce optimal RAG-n results. Notice, particularly for long filters, the improvement ofRAG-n compared to CSD and CSE adders. Filters F7 and F9 are from the Goodman & Carey [1] set ofhalfband filters and were improved using RAG-2005. The benchmark data from Samueli [2] and Lim & Parker [3] work very well for RAG-n since the filters are lowpass and therefore taper smoothly to zero at both sides, improving the likelihood of an adder cost-I OF, which increases the likelihood of optimality.\\n\\nTABLE I.\\n\\nREQUIRED NUMBER OF ADDERS FOR CSD, CSE,\\n\\nAND RAG ALGORITHMS FOR LOWPASS FILTERS\\n\\nN 0 F 0 1 1 2 4 0 0 1 0 0\\n\\nRA G 95 3 5 5 7 1 1 6 26 52 22 5\\n\\nFilt er F5 F6 F7 F8 F9 S1 S2 LI L2 L3 A more challenging benchmark is the filter required in\\n\\nCS E -\\n\\n0 F 3 4 3 5 5 6 26 51 22 5\\n\\nRA G 05 3 5 4 7 9 6 26 52 22 5\\n\\nL 11 11 11 15 19 25 60 121 63 36\\n\\nCSD 6 9 7 10 14 11 57 145 49 16\\n\\nNOF - 3 23 11,17 13,1261 -\\n\\n\\n\\n\\n\\n\\n\\n\\n\\n6 29 57 23 5\\n\\n49 -\\n\\n\\n\\nthe Rader DFT algorithm\\n\\nX[g\" mod L]\\n\\n=\\n\\nx[0] + I x[g mod L]W,\\n\\nn=O\\n\\nWN-cos(2Jtkn/L)-jsin(2itkn/L)\\n\\nprime. where Equation (1) converts a DFT computation into a filter operation. This filter does not have many small coefficients as the lowpass filter and is therefore more difficult for RAG-\\n\\nand L is\\n\\n1556\\n\\nAPCCAS 2006\\n\\nAuthorized licensed use limited to: DePaul University. Downloaded on July 02,2025 at 05:04:49 UTC from IEEE Xplore. Restrictions apply.\\n\\n(1)\\n\\nn to be synthesized. The required 2L-2 filter coefficients the C (without = round( (1 << B) programming language as: f [kI * cos(2*M PI*k/L));f[k+L-1 =-round((1 << B) *sin(2*M PI*k/L) ); For instance, with L=7 and B=14 the coefficients are:ft{ 10215, -3646, -14761, -14761, -3646, 10215, -12810, -15973, -7109, 7109, 15973, 12810}. The set has 6 OFs, and 7 NOFs, or a total of 13 adders that are required for its implementation using RAG-n. Table II shows the data ofRader DFT filters [4] with 8 to 14 bits and 7 to 127 taps that use NOFs (see Theorem 1).\\n\\nRader\\n\\npermutation)\\n\\nare\\n\\ncoded\\n\\nin\\n\\nTABLE II.\\n\\nREQUIRED NUMBER OF ADDERS FOR CSD AND\\n\\nRAG ALGORITHMS FOR RADERDFT FILTERS\\n\\nproviding maximum speed in an FPGA. The second limitation is that for L coefficients; L clock cycles are required for the computation of the SOP output. This limitation, however, can be overcome by implementing a LUT for each bit b of the input data word. These two modifications allow DA-based filters to run at high speed, and FPGA vendors in general prefer distributed arithmetic- (DA)-based filter are characterized by: (a) fully pipelined architecture, (b) a short compilation time, (c) good resource estimation, and (d) area independent results from the coefficient adder cost. DA- based filters do not require any coefficient optimization or the computation of a RAG-n graph that may be time consuming when the coefficient set is large. DA-based code generation, including all VHDL code and testbenches, is done in a few seconds using the vendors FIR compilers [7].\\n\\ngenerators\\n\\nsince\\n\\nthese\\n\\ndesigns\\n\\nL\\n\\n7\\n\\n7\\n\\n7\\n\\n7\\n\\n17 17\\n\\n17\\n\\n31\\n\\n31\\n\\n61\\n\\nB\\n\\n8 10\\n\\n12\\n\\n14\\n\\n10\\n\\n12\\n\\n14\\n\\n12\\n\\n14\\n\\n12\\n\\nCSD 24 32\\n\\n42\\n\\n52\\n\\n94 118\\n\\n138\\n\\n206\\n\\n244\\n\\n402\\n\\nN\\n\\n#0 RAG\\n\\nOF F 1 4\\n\\n6\\n\\n6\\n\\n95\\n\\n7 10\\n\\n6\\n\\n5\\n\\n12\\n\\n6\\n\\n7\\n\\n13\\n\\n15\\n\\n2\\n\\n17\\n\\n16\\n\\n5\\n\\n22\\n\\n16\\n\\n7\\n\\n28\\n\\n29\\n\\n3\\n\\n33\\n\\n30\\n\\n8\\n\\n42\\n\\n60\\n\\n1\\n\\n61\\n\\nRA G05\\n\\n7 10\\n\\n11\\n\\n13\\n\\n17\\n\\n21\\n\\n23\\n\\n32\\n\\n38\\n\\n61\\n\\nNOF 3 5,7,11,13 7, 15,71, 103, 1841 7,11,3 1,59, 101, 177,319\\n\\n17,21 3,17,23,121,551 3,35,103,415,11 53,1249,8051 3, 5, 123 3,9,133,797,877 975,1179,3235 5 5,39,51,205,265 3211 5\\n\\nIV. FPGA IMPLEMENTATION RESULTS With the NRE cost ofcell-based ASICs reaching $4M for the 60nm process, FPGAs have become the dominating implementation vehicle for most DSP designs. The fully pipelined DA filters were generated using Altera\\'s FIR filter compiler [7]. The circuits were then synthesized from their VHDL descriptions and optimized for speed using Quartus synthesis tools from Altera. The core element of an FPGA is a logic element (LE) that contains an LUT and a register. The LE can be configured as a 24xl table (as used for DA) or in the arithmetic mode as two 23xl tables to implement a full adder used an EP2C35F672C6ES, a popular device from the Cyclone II DSP development board. The device has 33216 LEs much more than is actually needed for the largest filter design to ensure that the limitation in resources will not have a negative effect on the filter performance.\\n\\ncell.\\n\\nThe device\\n\\nin\\n\\nthis\\n\\npaper\\n\\nis\\n\\n61 127\\n\\n14\\n\\n14\\n\\n496\\n\\n1060\\n\\n60\\n\\n125\\n\\n6 1\\n\\n71\\n\\n126\\n\\n66\\n\\n126\\n\\n5\\n\\nDISTRIBUTED ARITHMETIC Distributed Arithmetic (DA) is a different approach used to compute the sum-of-product compared with a standard M\\\\AC approach standard M\\\\AC [4]. approach, in each operation a coefficient and a data word are multiplied. In DA, however, one coefficient is multiplied with a single bit from all data words in one operation, i.e.,\\n\\nIII.\\n\\nthe\\n\\nIn\\n\\nL-1\\n\\nB-1\\n\\nL-1\\n\\ny = Z c[n]x[n] = Z 2b x Z f(c[n],xb[n]),\\n\\nn=O0\\n\\nb=O\\n\\nn=O\\n\\nwhere xb[n] describes the bit b of data word n, and the function I(c[n],xb[n]) is usually implemented via a look-up table (LUT). One limitation ofthe techniques seems to be the LUT requirement that grows exponentially with the number of inputs, i.e., the number of taps. This limitation can be overcome by using table partitioning, i.e., an LUT table with 2N inputs can be split up into 2 LUTs with N inputs and an addition adder at the output. Both the LUT and adder tree in the case of more than 2 parallel LUT can be pipelined fully,\\n\\n(2)\\n\\nPipelining the RAG-n\\n\\nA. Due to the logic delay in the RAG-n running through several adders, the resulting register performance of the design is not very high even for a small graph. A single register placed at the output ofthe RAG already provides a speed improvement of 50% when compared with the non- pipelined design (210.22 MHz versus 148.39 MHz for F5). For the fully pipelined design for F5, one needs to build: x3<=2*x+x; x25<=x3*8 + x*z-1; x75<=x25*2+x25, i.e., one extra pipeline register is used in building x25, and a maximum delay of 3 pipeline stages is needed. Fig. 1 shows the resulting F5 fully pipelined graph for F5 using MatLab/Simulink blocks. Notice that additional registers are introduced to implement the pipeline retiming, i.e., the multiplier outputs are aligned according to their pipeline stages. In this halfband filter design the pipeline retiming synthesis results reveal that the design now runs at 323 MHz, which is about the maximum performance that can be achieved with this device family.\\n\\nAPCCAS 2006\\n\\n1557\\n\\nAuthorized licensed use limited to: DePaul University. Downloaded on July 02,2025 at 05:04:49 UTC from IEEE Xplore. Restrictions apply.\\n\\nVariation ofthe Input Bitwidth When it comes to scaling of the design by data input bitwidth, the RAG-n approach area measured in LEs increases only linearly. The register performance decreases due to the overall longer adder delays of the design. In the DA design not only are twice as many LEs needed to implement the LUT, but additional adders are also required for the adder tree to achieve a high throughput. Overall it can be concluded from Table III that the fully pipelined RAG-n provides a cost gain between 78%-130% when the input bitwidth changes from 8 to 32 bits with about the same register performance as the DA filters.\\n\\nB.\\n\\ngreater advantages if there are many large coefficients that require many adders in the MAG coding.\\n\\nTABLE IV.\\n\\nSIZE, SPEED, AND COST COMPARISON\\n\\nFilter\\n\\nRAG-n: pipe 0/max LEs F_\\n\\nF_ (MHz)\\n\\nLEs\\n\\n|\\n\\nLEs\\n\\nParallel DA_\\n\\nF_ (MHz)\\n\\nLEs FmSx\\n\\n_\\n\\nF5\\n\\n196 216\\n\\n148.4 323.3\\n\\n1.32 ___ 396 0.67\\n\\n332.3\\n\\n1.19\\n\\nF8\\n\\n326 360\\n\\n135.8 323.4\\n\\n2.40 1.11\\n\\n570\\n\\n340.7\\n\\n1.67\\n\\nTABLE III.\\n\\nCOST VERSUS INPUT BITWIDTH\\n\\nF9\\n\\n461 534\\n\\n97.2 304.0\\n\\n4.74 1.76\\n\\n717\\n\\n326.2\\n\\n2.20\\n\\nBn Ls LEs\\n\\nBin\\n\\n8\\n\\n216\\n\\n16 24\\n\\n343 471\\n\\n32\\n\\n599\\n\\nRAG-n F ~ (MHz)\\n\\n323\\n\\n301 254\\n\\n227\\n\\nLEs F- 0.67\\n\\n1.14 1.85\\n\\n2.63\\n\\nLEs\\n\\n396\\n\\n751 1086\\n\\n1479\\n\\nParallel DA __| LEs F\\n\\nF ~ MHz\\n\\n332\\n\\n1.19\\n\\n298 261\\n\\n2.52 4.15\\n\\n241\\n\\n6.12\\n\\nGain%\\n\\n78.35\\n\\n120.92 124.41\\n\\n132.40\\n\\nSi\\n\\nL3\\n\\nS2\\n\\n460 492\\n\\n651 671\\n\\n1672 1745\\n\\n130.6 296.6\\n\\n205.3\\n\\n310.3\\n\\n129.9 252.9\\n\\n3.52 1.66\\n\\n3.17\\n\\n2.16\\n\\n12.86 6.90\\n\\n985\\n\\n1406\\n\\n2834\\n\\n356.5\\n\\n321.3\\n\\n289.0\\n\\n2.76\\n\\n4.38\\n\\n9.81\\n\\nC FPGA BenchmarkData\\n\\nIn order to create a reliable set of data, a larger set of filters has been designed using VHDL for fully pipelined RAG-n and using the FIR core compiler from Altera that implements a full parallel DA filter [7]. Table IV shows the results for 3 halfband filters from Goodman and Carey, two ofthe Samueli filters, and two ofthe Lim & Parker filters. It can be seen that the RAG-n filters on average enjoy size reductions of 71%, the registered performance of the DA cost expressed as filter LEs/Fmax is on average 56% better for RAG-n based designs when a fully pipeline approach is used. It can also be seen from Table IV that without pipelining (pipe=O) the DA- based approach gives better results. With 6% increase in area, the cost for RAG-n pipelining is quite reasonable.\\n\\nis 8% better, and the overall\\n\\nV.\\n\\nCONCLUSION\\n\\nThis paper shows that RAG-n is a viable approach to the FPGA implementation of filters when the multiplier block is implemented with a fully pipelined reduced adder graph. Full pipelining increases the area by 6 %, the speed by 111% over the non-pipeline cost expressed as LEs/Fmax is improved by 93%. Compared with the DA-based designs this paper has demonstrated the registered substantial in performance resulting in overall better cost matrices.\\n\\nimplementation,\\n\\nand the\\n\\noverall\\n\\nreduction\\n\\nsize,\\n\\nsustained\\n\\nFurther studies will be directed towards a combination of DA and RAG-n methods, since RAG-n works best when many small coefficients are available, while DA offers\\n\\nL2\\n\\nMeanO\\n\\n1446 1531 745\\n\\n134.9 265.5\\n\\n140.3\\n\\n10.72 5.77 5.53\\n\\n__l\\n\\n2590\\n\\n282.4\\n\\n_\\n\\n9.17\\n\\nMean Gain %r,ail\\n\\n793\\n\\n6\\n\\n296.6\\n\\n111\\n\\n2.86\\n\\n93\\n\\n1357\\n\\n71\\n\\n321.2\\n\\n8\\n\\n4.45\\n\\n56\\n\\nREFERENCES\\n\\n[1]\\n\\n[2]\\n\\n[3]\\n\\n[4]\\n\\n[5]\\n\\n[6]\\n\\n[7]\\n\\n[8]\\n\\n[9]\\n\\nD.J. Goodman, M.J. Carey, \"Nine Digital Filters for Decimation and Interpolation,\" IEEE Transactions on ASSP, pp. 121-126, April 1977. H. Samueli, \"An Improved Search Algorithm for the Design of Multiplierless FIR Filters with Powers-of-Two Coefficientss of,\" IEEE Transactions on C&S, vol. 36, pp. 1044-1047, July 1989. Y. Lim and S. Parker, \"Discrete Coefficient FIR Digital Filter Design Based Upon an LMS Criteria,\" IEEE Transactions on C&S, vol. 36, pp. 723-739, October 1983. U. Meyer-Baese, Digital Signal Processing with Field Programmable Gate Arrays, 2rd ed., Heidelberg: Springer, 2004, pp.251-257. A. Dempster, M. Macleod, \"Use of Minimum-Adder Multiplier Blocks in FIR Digital Filters,\" IEEE Transactions on C&S II, vol. 42, pp. 569-577, September 1995. Y. Wang, K. Roy, \\'CSDC: A New Complexity Reduction Technique for Multiplierless Implementation of Digital FIR Filters,\" IEEE Transactions on C&S I, vol. 52, pp. 1845-1852, September 2005. Altera Corp., \\'FIR Compiler: MegaCore Function User Guide\" Ver. 3.1.0, June 2004. Dempster, A.G. and M.D. Macleod, \"Constant integer multiplication using minimum adders\", IEE Proceedings - Circuits, Devices & Systems, 141(5):407-413, October 1994. 0. Gustafsson, A. Dempster and L Wanhammer, \"Extended Results for Minimum-Adder Constant Integer Multipliers\", Proc ISCAS 2002, Phoenix, pp. 73-76, May 2002.\\n\\n1558\\n\\nAPCCAS 2006\\n\\nAuthorized licensed use limited to: DePaul University. Downloaded on July 02,2025 at 05:04:49 UTC from IEEE Xplore. Restrictions apply.'"
      ]
     },
     "execution_count": 18,
     "metadata": {},
     "output_type": "execute_result"
    }
   ],
   "source": [
    "direct_loader_unstructured_pdf_docs[1].page_content"
   ]
  },
  {
   "cell_type": "code",
   "execution_count": 19,
   "id": "ba002a72",
   "metadata": {},
   "outputs": [
    {
     "data": {
      "text/plain": [
       "'A Comparison ofPipelined RAG-n and DA FPGA- based Multiplierless Filters\\n\\nUwe Meyer-Baese The Department ofECE FAMU-FSU College ofEng. Tallahassee, FL USA Email: umb -eng.fsu.edu\\n\\nJiajia Chen, Chip Hong Chang Nanyang Technological University School ofEE Engineering Blk S2,Nanyang Avenue, Singapore Email: {chenO183,echchang}gntu.edu.sg\\n\\nAndrew G. Dempster The School ofSurveying and Spatial Information Systems University ofNew South Wales Sydney 2052, Australia Email:a.dempstergunsw.edu.au\\n\\nAbstract The paper starts with an overview of distributed arithmetic (DA) and n-dimensional reduced adder graph (RAG-n) multiplierless filter design methods. Since DA designs are table-based and RAG-n designs are adder-based, FPGA synthesis design data are used for a realistic comparison. Benchmark FIR filters [1-4] of length 11 to 63 are compiled. For a wide set ofrealistic design examples, it will be shown that pipelined RAG-n designs achieve on average a gain of 71% in performance a 56% area, improvement in cost compared with DA-based designs.\\n\\nequivalent\\n\\nin\\n\\nspeed,\\n\\nand\\n\\nheuristics are applied. The full 10-step RAG-n algorithm is [5]. To illustrate the RAG-n algorithm, summarized in consider the coefficients defining the F5 halfband FIR filter of Goodman and Carey [1]. For the halfband F5 filter in direct form, using a CSD code, 9 adders are required. Ifthe transposed filter and RAG-n algorithms are used, the number of adders is reduced from 9 to 3. Fig. 1 shows the resulting reduced-adder graph for the design ofthe F5 filter.\\n\\nI.\\n\\nINTRODUCTION\\n\\nField-programmable gate arrays (FPGAs) are on the verge of revolutionizing digital signal processing. Many front-end digital signal processing (DSP) algorithms, such as FFTs, multi channel filterbanks, or wavelets, to name just a few, previously built with ASICs or programmable digital signal processors, are now often replaced by FPGAs.\\n\\nII.\\n\\nMULTIPLIER BLOCK CODING AND THE RAG-N\\n\\nALGORITHM\\n\\nThere are only a few applications (e.g., adaptive filters) where a general programmable filter architecture is required. In many applications, the filters are linear time-invariant (LTI) systems, and the coefficients do not change over time. In this case, the hardware effort can essentially be reduced by exploiting the constant coefficient multiplier coding and adder (trees) used to implement the FIR filter multiplier block (see Fig. 1). The coefficients of the filter are f={3,0,- 25,0,150,256,150,0,-25,0,3}.\\n\\nIn several DSP systems it is found that multipliers share These multipliers can be combined in a the same input. multiplier block. The transposed FIR filter shown in Figure 1 is a typical example for a multiplier block. Dempster and Macleod [5] have introduced a systematic algorithm, which produce s an n-Dimensional Reduced Adder Graph (RAG-n) of a block multiplier. In general, however, finding the optimal RAG-n is an NP-hard problem. RAG-n determines in the first steps an optimal coding; for the suboptimal part,\\n\\nFig. 1. Pipelined RAG-n ofF5 [1].\\n\\nA.\\n\\nRAG-95s Let us first briefly clarify the algorithms and not-so- obvious steps of the original RAG-95 [5]: In Step 1 all coefficients are reduced to positive odd fundamentals, since this maximizes the number ofpartial sums, and the negative signs ofthe coefficients are implemented in the output adder taps ofthe filter. This works fine except in the unlikely case when all coefficients are negative. Then a sign complement operation has to be added to the filter output. In Step 5, all sums of two extended fundamentals are considered. It may happen that a final division is also required, i.e. g=(2ufl+/- 2vf2)/2w. Note that multiplication or division by power-of- two can be implemented by hardwired left and right shifts, respectively, incurring hardware resources. For instance, the coefficient set {7,105,53} in MAG coding required 1, 2, and 3 adders, respectively. In 7=8-1;105=7*15; synthesized RAG-n the 53=(105+1)/2, requiring only 3 adders in total but also a divide/right shift operation. In Step 7 an adder cost-2 coefficient is added, and the algorithm selects a non-output fundamental (NOF) with the smallest values. This is motivated by the fact that an additional small NOF will generate more additional coefficient than a larger NOF at no cost. For example, assume that the coefficient 45 needs to be\\n\\nwithout\\n\\nadditional\\n\\nset\\n\\nis\\n\\nas\\n\\n1555\\n\\n1-4244-0387-1/06/$20.00 (@2006 IEEE\\n\\nAuthorized licensed use limited to: DePaul University. Downloaded on July 02,2025 at 05:04:49 UTC from IEEE Xplore. Restrictions apply.\\n\\nadded and that an NOF value has to be decided upon. The NOF LUT lists all possible NOF values as 3, 5, 9, or 15. It can now be argued that if3 is selected, more coefficients are generated than if any other NOF is used, since 3, 6, 12, 24, 48,... can be generated without additional effort from NOF 3. Other NOF values, such as 15, can generate 15, 30, 45,... etc., so the choices towards producing other coefficients at no cost are significantly restricted.\\n\\nB. RAG-2005 Modifications\\n\\nCompared with the original algorithms only minor\\n\\nimprovements had been made over the years [4]:\\n\\nThe MAG LUT table used has been extended to 14- bit using the concept ofmultiplicative, additive, and leapfrog graphs (see [8,9]). All 32-MAG adder cost-4 graphs are now considered when computing the minimum NOF sum. Within 14 bits, only 2 coefficients (i.e. 14709, 15573) are of cost-5. As long as these coefficients are not used, the computed minimum NOF sum list will be optimally based on RAG-95. 7 all are now cost-2 i.e., a single considered. There are three such graphs, fundamental followed by an adder cost-2 factor, a sum of two fundamentals, and an adder cost-I factor, or a sum of 3 fundamentals.\\n\\n\\n\\nIn\\n\\nStep\\n\\nadder graphs\\n\\nThe last improvement is based on the adder cost-2 selection that sometimes produced suboptimal results in the RAG-95 algorithm where multiple adder cost-2 coefficients have to be implemented. For instance, for the coefficient set {13, 59, 479} the minimum NOFs values used by RAG-95 are {3, 5, 7} because 13=4*3+1; 59=64-5; 479=59*8+7, giving a solution with 6 adders. If the NOF {15} is chosen instead, then all the coefficients (13=15-2; 59=15*4-1; and RAG-05 requires only 4 adders, a 15*32-1) benefit, 30% improvement. Therefore, instead of selecting the smallest NOF for the smallest adder cost-2 coefficient, a search for the best NOF is done over all adder cost-2 coefficients.\\n\\n\\n\\nC. RAG-2005 Benchmarks\\n\\nAlthough the RAG-n algorithm has been in use for quite some time, a large set ofreliable benchmark data that can be verified and reproduced has not been produced. In a recent paper by Wang and Roy [6], for instance, 60% of the comparison RAG-n data were declared \"unknown.\" A benchmark should cover filters used in practical applications that are widely published or can easily be computed. Less useful is a generation of \"random\" number filter coefficients that (a) cannot be verified by a third party, and (b) are ofno practical relevance. The problem with the RAG-n benchmark data is that the heuristic part may give different results depending on the exact software implementation or the NOF table in use. In addition, since some filters are rather long, a benchmark that lists the whole RAG-n is not practical in most cases. It is therefore suggested that a benchmark based on the following equivalence transformation be used:\\n\\nTheorem 1: Let S1 be a coefficient set that can be synthesized by RAG-n with a set ofF1 output fundamentals and N1 non-output fundamentals, (i.e., internal auxiliary coefficients). A congruent RAG-n is synthesized if a coefficient set S2 is used that contains both output and non output fundamentals from setS1. The proof of Theorem 1\\n\\nis based on the minimum number of adders of both sets. A corollary of Theorem 1 is that graphs can now be classified as (guaranteed) optimal and heuristic graphs. An optimal graph has no more than 1 NOF, while a heuristic graph has more than 1 NOF. It is only required to provide a list ofthe NOFs that describe a unique OF graph. Ifthis set ofNOFs is added to the coefficient set, all OFs are synthesized via the optimal part ofthe algorithm that can easily be programmed. This program will in fact be available for downloading from the author webpage as soon as possible. Some example benchmarks are given in Table I, where L is the filter length. Note that the number of CSD adders given has already taken advantage of coefficient symmetry, i.e. J(k)=AL-k). Common sub-expression (CSE) data are used from [6]. It can be seen that the examples from Samueli and Lim & Parker all produce optimal RAG-n results. Notice, particularly for long filters, the improvement ofRAG-n compared to CSD and CSE adders. Filters F7 and F9 are from the Goodman & Carey [1] set ofhalfband filters and were improved using RAG-2005. The benchmark data from Samueli [2] and Lim & Parker [3] work very well for RAG-n since the filters are lowpass and therefore taper smoothly to zero at both sides, improving the likelihood of an adder cost-I OF, which increases the likelihood of optimality.\\n\\nTABLE I.\\n\\nREQUIRED NUMBER OF ADDERS FOR CSD, CSE,\\n\\nAND RAG ALGORITHMS FOR LOWPASS FILTERS\\n\\nN 0 F 0 1 1 2 4 0 0 1 0 0\\n\\nRA G 95 3 5 5 7 1 1 6 26 52 22 5\\n\\nFilt er F5 F6 F7 F8 F9 S1 S2 LI L2 L3 A more challenging benchmark is the filter required in\\n\\nCS E -\\n\\n0 F 3 4 3 5 5 6 26 51 22 5\\n\\nRA G 05 3 5 4 7 9 6 26 52 22 5\\n\\nL 11 11 11 15 19 25 60 121 63 36\\n\\nCSD 6 9 7 10 14 11 57 145 49 16\\n\\nNOF - 3 23 11,17 13,1261 -\\n\\n\\n\\n\\n\\n\\n\\n\\n\\n6 29 57 23 5\\n\\n49 -\\n\\n\\n\\nthe Rader DFT algorithm\\n\\nX[g\" mod L]\\n\\n=\\n\\nx[0] + I x[g mod L]W,\\n\\nn=O\\n\\nWN-cos(2Jtkn/L)-jsin(2itkn/L)\\n\\nprime. where Equation (1) converts a DFT computation into a filter operation. This filter does not have many small coefficients as the lowpass filter and is therefore more difficult for RAG-\\n\\nand L is\\n\\n1556\\n\\nAPCCAS 2006\\n\\nAuthorized licensed use limited to: DePaul University. Downloaded on July 02,2025 at 05:04:49 UTC from IEEE Xplore. Restrictions apply.\\n\\n(1)\\n\\nn to be synthesized. The required 2L-2 filter coefficients the C (without = round( (1 << B) programming language as: f [kI * cos(2*M PI*k/L));f[k+L-1 =-round((1 << B) *sin(2*M PI*k/L) ); For instance, with L=7 and B=14 the coefficients are:ft{ 10215, -3646, -14761, -14761, -3646, 10215, -12810, -15973, -7109, 7109, 15973, 12810}. The set has 6 OFs, and 7 NOFs, or a total of 13 adders that are required for its implementation using RAG-n. Table II shows the data ofRader DFT filters [4] with 8 to 14 bits and 7 to 127 taps that use NOFs (see Theorem 1).\\n\\nRader\\n\\npermutation)\\n\\nare\\n\\ncoded\\n\\nin\\n\\nTABLE II.\\n\\nREQUIRED NUMBER OF ADDERS FOR CSD AND\\n\\nRAG ALGORITHMS FOR RADERDFT FILTERS\\n\\nproviding maximum speed in an FPGA. The second limitation is that for L coefficients; L clock cycles are required for the computation of the SOP output. This limitation, however, can be overcome by implementing a LUT for each bit b of the input data word. These two modifications allow DA-based filters to run at high speed, and FPGA vendors in general prefer distributed arithmetic- (DA)-based filter are characterized by: (a) fully pipelined architecture, (b) a short compilation time, (c) good resource estimation, and (d) area independent results from the coefficient adder cost. DA- based filters do not require any coefficient optimization or the computation of a RAG-n graph that may be time consuming when the coefficient set is large. DA-based code generation, including all VHDL code and testbenches, is done in a few seconds using the vendors FIR compilers [7].\\n\\ngenerators\\n\\nsince\\n\\nthese\\n\\ndesigns\\n\\nL\\n\\n7\\n\\n7\\n\\n7\\n\\n7\\n\\n17 17\\n\\n17\\n\\n31\\n\\n31\\n\\n61\\n\\nB\\n\\n8 10\\n\\n12\\n\\n14\\n\\n10\\n\\n12\\n\\n14\\n\\n12\\n\\n14\\n\\n12\\n\\nCSD 24 32\\n\\n42\\n\\n52\\n\\n94 118\\n\\n138\\n\\n206\\n\\n244\\n\\n402\\n\\nN\\n\\n#0 RAG\\n\\nOF F 1 4\\n\\n6\\n\\n6\\n\\n95\\n\\n7 10\\n\\n6\\n\\n5\\n\\n12\\n\\n6\\n\\n7\\n\\n13\\n\\n15\\n\\n2\\n\\n17\\n\\n16\\n\\n5\\n\\n22\\n\\n16\\n\\n7\\n\\n28\\n\\n29\\n\\n3\\n\\n33\\n\\n30\\n\\n8\\n\\n42\\n\\n60\\n\\n1\\n\\n61\\n\\nRA G05\\n\\n7 10\\n\\n11\\n\\n13\\n\\n17\\n\\n21\\n\\n23\\n\\n32\\n\\n38\\n\\n61\\n\\nNOF 3 5,7,11,13 7, 15,71, 103, 1841 7,11,3 1,59, 101, 177,319\\n\\n17,21 3,17,23,121,551 3,35,103,415,11 53,1249,8051 3, 5, 123 3,9,133,797,877 975,1179,3235 5 5,39,51,205,265 3211 5\\n\\nIV. FPGA IMPLEMENTATION RESULTS With the NRE cost ofcell-based ASICs reaching $4M for the 60nm process, FPGAs have become the dominating implementation vehicle for most DSP designs. The fully pipelined DA filters were generated using Altera\\'s FIR filter compiler [7]. The circuits were then synthesized from their VHDL descriptions and optimized for speed using Quartus synthesis tools from Altera. The core element of an FPGA is a logic element (LE) that contains an LUT and a register. The LE can be configured as a 24xl table (as used for DA) or in the arithmetic mode as two 23xl tables to implement a full adder used an EP2C35F672C6ES, a popular device from the Cyclone II DSP development board. The device has 33216 LEs much more than is actually needed for the largest filter design to ensure that the limitation in resources will not have a negative effect on the filter performance.\\n\\ncell.\\n\\nThe device\\n\\nin\\n\\nthis\\n\\npaper\\n\\nis\\n\\n61 127\\n\\n14\\n\\n14\\n\\n496\\n\\n1060\\n\\n60\\n\\n125\\n\\n6 1\\n\\n71\\n\\n126\\n\\n66\\n\\n126\\n\\n5\\n\\nDISTRIBUTED ARITHMETIC Distributed Arithmetic (DA) is a different approach used to compute the sum-of-product compared with a standard M\\\\AC approach standard M\\\\AC [4]. approach, in each operation a coefficient and a data word are multiplied. In DA, however, one coefficient is multiplied with a single bit from all data words in one operation, i.e.,\\n\\nIII.\\n\\nthe\\n\\nIn\\n\\nL-1\\n\\nB-1\\n\\nL-1\\n\\ny = Z c[n]x[n] = Z 2b x Z f(c[n],xb[n]),\\n\\nn=O0\\n\\nb=O\\n\\nn=O\\n\\nwhere xb[n] describes the bit b of data word n, and the function I(c[n],xb[n]) is usually implemented via a look-up table (LUT). One limitation ofthe techniques seems to be the LUT requirement that grows exponentially with the number of inputs, i.e., the number of taps. This limitation can be overcome by using table partitioning, i.e., an LUT table with 2N inputs can be split up into 2 LUTs with N inputs and an addition adder at the output. Both the LUT and adder tree in the case of more than 2 parallel LUT can be pipelined fully,\\n\\n(2)\\n\\nPipelining the RAG-n\\n\\nA. Due to the logic delay in the RAG-n running through several adders, the resulting register performance of the design is not very high even for a small graph. A single register placed at the output ofthe RAG already provides a speed improvement of 50% when compared with the non- pipelined design (210.22 MHz versus 148.39 MHz for F5). For the fully pipelined design for F5, one needs to build: x3<=2*x+x; x25<=x3*8 + x*z-1; x75<=x25*2+x25, i.e., one extra pipeline register is used in building x25, and a maximum delay of 3 pipeline stages is needed. Fig. 1 shows the resulting F5 fully pipelined graph for F5 using MatLab/Simulink blocks. Notice that additional registers are introduced to implement the pipeline retiming, i.e., the multiplier outputs are aligned according to their pipeline stages. In this halfband filter design the pipeline retiming synthesis results reveal that the design now runs at 323 MHz, which is about the maximum performance that can be achieved with this device family.\\n\\nAPCCAS 2006\\n\\n1557\\n\\nAuthorized licensed use limited to: DePaul University. Downloaded on July 02,2025 at 05:04:49 UTC from IEEE Xplore. Restrictions apply.\\n\\nVariation ofthe Input Bitwidth When it comes to scaling of the design by data input bitwidth, the RAG-n approach area measured in LEs increases only linearly. The register performance decreases due to the overall longer adder delays of the design. In the DA design not only are twice as many LEs needed to implement the LUT, but additional adders are also required for the adder tree to achieve a high throughput. Overall it can be concluded from Table III that the fully pipelined RAG-n provides a cost gain between 78%-130% when the input bitwidth changes from 8 to 32 bits with about the same register performance as the DA filters.\\n\\nB.\\n\\ngreater advantages if there are many large coefficients that require many adders in the MAG coding.\\n\\nTABLE IV.\\n\\nSIZE, SPEED, AND COST COMPARISON\\n\\nFilter\\n\\nRAG-n: pipe 0/max LEs F_\\n\\nF_ (MHz)\\n\\nLEs\\n\\n|\\n\\nLEs\\n\\nParallel DA_\\n\\nF_ (MHz)\\n\\nLEs FmSx\\n\\n_\\n\\nF5\\n\\n196 216\\n\\n148.4 323.3\\n\\n1.32 ___ 396 0.67\\n\\n332.3\\n\\n1.19\\n\\nF8\\n\\n326 360\\n\\n135.8 323.4\\n\\n2.40 1.11\\n\\n570\\n\\n340.7\\n\\n1.67\\n\\nTABLE III.\\n\\nCOST VERSUS INPUT BITWIDTH\\n\\nF9\\n\\n461 534\\n\\n97.2 304.0\\n\\n4.74 1.76\\n\\n717\\n\\n326.2\\n\\n2.20\\n\\nBn Ls LEs\\n\\nBin\\n\\n8\\n\\n216\\n\\n16 24\\n\\n343 471\\n\\n32\\n\\n599\\n\\nRAG-n F ~ (MHz)\\n\\n323\\n\\n301 254\\n\\n227\\n\\nLEs F- 0.67\\n\\n1.14 1.85\\n\\n2.63\\n\\nLEs\\n\\n396\\n\\n751 1086\\n\\n1479\\n\\nParallel DA __| LEs F\\n\\nF ~ MHz\\n\\n332\\n\\n1.19\\n\\n298 261\\n\\n2.52 4.15\\n\\n241\\n\\n6.12\\n\\nGain%\\n\\n78.35\\n\\n120.92 124.41\\n\\n132.40\\n\\nSi\\n\\nL3\\n\\nS2\\n\\n460 492\\n\\n651 671\\n\\n1672 1745\\n\\n130.6 296.6\\n\\n205.3\\n\\n310.3\\n\\n129.9 252.9\\n\\n3.52 1.66\\n\\n3.17\\n\\n2.16\\n\\n12.86 6.90\\n\\n985\\n\\n1406\\n\\n2834\\n\\n356.5\\n\\n321.3\\n\\n289.0\\n\\n2.76\\n\\n4.38\\n\\n9.81\\n\\nC FPGA BenchmarkData\\n\\nIn order to create a reliable set of data, a larger set of filters has been designed using VHDL for fully pipelined RAG-n and using the FIR core compiler from Altera that implements a full parallel DA filter [7]. Table IV shows the results for 3 halfband filters from Goodman and Carey, two ofthe Samueli filters, and two ofthe Lim & Parker filters. It can be seen that the RAG-n filters on average enjoy size reductions of 71%, the registered performance of the DA cost expressed as filter LEs/Fmax is on average 56% better for RAG-n based designs when a fully pipeline approach is used. It can also be seen from Table IV that without pipelining (pipe=O) the DA- based approach gives better results. With 6% increase in area, the cost for RAG-n pipelining is quite reasonable.\\n\\nis 8% better, and the overall\\n\\nV.\\n\\nCONCLUSION\\n\\nThis paper shows that RAG-n is a viable approach to the FPGA implementation of filters when the multiplier block is implemented with a fully pipelined reduced adder graph. Full pipelining increases the area by 6 %, the speed by 111% over the non-pipeline cost expressed as LEs/Fmax is improved by 93%. Compared with the DA-based designs this paper has demonstrated the registered substantial in performance resulting in overall better cost matrices.\\n\\nimplementation,\\n\\nand the\\n\\noverall\\n\\nreduction\\n\\nsize,\\n\\nsustained\\n\\nFurther studies will be directed towards a combination of DA and RAG-n methods, since RAG-n works best when many small coefficients are available, while DA offers\\n\\nL2\\n\\nMeanO\\n\\n1446 1531 745\\n\\n134.9 265.5\\n\\n140.3\\n\\n10.72 5.77 5.53\\n\\n__l\\n\\n2590\\n\\n282.4\\n\\n_\\n\\n9.17\\n\\nMean Gain %r,ail\\n\\n793\\n\\n6\\n\\n296.6\\n\\n111\\n\\n2.86\\n\\n93\\n\\n1357\\n\\n71\\n\\n321.2\\n\\n8\\n\\n4.45\\n\\n56\\n\\nREFERENCES\\n\\n[1]\\n\\n[2]\\n\\n[3]\\n\\n[4]\\n\\n[5]\\n\\n[6]\\n\\n[7]\\n\\n[8]\\n\\n[9]\\n\\nD.J. Goodman, M.J. Carey, \"Nine Digital Filters for Decimation and Interpolation,\" IEEE Transactions on ASSP, pp. 121-126, April 1977. H. Samueli, \"An Improved Search Algorithm for the Design of Multiplierless FIR Filters with Powers-of-Two Coefficientss of,\" IEEE Transactions on C&S, vol. 36, pp. 1044-1047, July 1989. Y. Lim and S. Parker, \"Discrete Coefficient FIR Digital Filter Design Based Upon an LMS Criteria,\" IEEE Transactions on C&S, vol. 36, pp. 723-739, October 1983. U. Meyer-Baese, Digital Signal Processing with Field Programmable Gate Arrays, 2rd ed., Heidelberg: Springer, 2004, pp.251-257. A. Dempster, M. Macleod, \"Use of Minimum-Adder Multiplier Blocks in FIR Digital Filters,\" IEEE Transactions on C&S II, vol. 42, pp. 569-577, September 1995. Y. Wang, K. Roy, \\'CSDC: A New Complexity Reduction Technique for Multiplierless Implementation of Digital FIR Filters,\" IEEE Transactions on C&S I, vol. 52, pp. 1845-1852, September 2005. Altera Corp., \\'FIR Compiler: MegaCore Function User Guide\" Ver. 3.1.0, June 2004. Dempster, A.G. and M.D. Macleod, \"Constant integer multiplication using minimum adders\", IEE Proceedings - Circuits, Devices & Systems, 141(5):407-413, October 1994. 0. Gustafsson, A. Dempster and L Wanhammer, \"Extended Results for Minimum-Adder Constant Integer Multipliers\", Proc ISCAS 2002, Phoenix, pp. 73-76, May 2002.\\n\\n1558\\n\\nAPCCAS 2006\\n\\nAuthorized licensed use limited to: DePaul University. Downloaded on July 02,2025 at 05:04:49 UTC from IEEE Xplore. Restrictions apply.'"
      ]
     },
     "execution_count": 19,
     "metadata": {},
     "output_type": "execute_result"
    }
   ],
   "source": [
    "pymupdf_loader_docs[1].page_content"
   ]
  },
  {
   "cell_type": "code",
   "execution_count": 20,
   "id": "f5a903f8",
   "metadata": {},
   "outputs": [
    {
     "data": {
      "text/plain": [
       "'• Postgres(pgvector): A vector database that supports sim-\\nilarity search based on vector embeddings.\\n• Azure AI Search : A cloud-based search service with\\nbuilt-in AI capabilities for full-text search and indexing.\\n• Elasticsearch: A distributed search and analytics engine\\nthat provides real-time search capabilities.\\nThe retrieval module performs a hybrid search, combining\\ntraditional keyword-based search with vector-based similarity\\nsearch, followed by a reranker that refines the results. The\\ngeneration module utilizes GPT-4 models to generate contex-\\ntually relevant responses. The orchestration layer, developed in\\nPython, integrates these components and runs in a Kubernetes\\nenvironment, ensuring scalability and resilience.\\nIV. P LATFORM AUTOMATION\\nPlatform automation is a critical aspect of MLOps, ensuring\\nconsistent, reproducible, and scalable deployments. Platform\\nautomation is achieved through the use of various tools and\\npractices that streamline the deployment and management of\\nAI applications. Terraform is used for defining Infrastructure\\nas Code (IaC), allowing for consistent and repeatable infras-\\ntructure setup. ArgoCD is employed for continuous integra-\\ntion and deployment, ensuring that application updates are\\nautomatically tested and deployed. Kubernetes provides the\\norchestration capabilities needed to manage the deployment,\\nscaling, and operation of the application, ensuring high avail-\\nability and fault tolerance.\\nA. Terraform Overview\\nTerraform enables the definition of infrastructure as code us-\\ning a high-level configuration language. This approach allows\\nfor the description of the desired infrastructure state, which\\nTerraform then uses to generate and execute an execution plan\\nto achieve the desired state.\\nB. Benefits of Terraform\\nUsing Terraform for platform automation provides several\\nkey benefits:\\n- Consistency and Repeatability : Terraform ensures that\\nthe same infrastructure setup can be consistently and repeat-\\nedly deployed across multiple environments (e.g., develop-\\nment, staging, production) without manual intervention. This\\nreduces the risk of human errors and configuration drift [3].\\n- Version Control: Infrastructure configurations are written\\nin code and can be versioned using version control systems\\nlike Git. This enables tracking changes over time, reviewing\\ncode changes through pull requests, and collaborating on\\ninfrastructure changes in a controlled manner.\\n- Scalability: Terraform supports the management of infras-\\ntructure at scale. Whether it’s provisioning a single instance\\nor a complex multi-tier application, Terraform handles the\\ndependencies and order of operations efficiently.\\n- Modularity: Terraform’s modular design allows for\\nreusable and shareable code components. Modules encapsulate\\ncommon infrastructure patterns, making it easy to reuse and\\nmaintain configurations across different projects.\\n- Security and Compliance : Terraform allows for the im-\\nplementation of security best practices and compliance policies\\nthrough code. Security rules, such as network security groups,\\nencryption settings, and access controls, can be consistently\\napplied across all resources.\\n- Integration with CI/CD : Terraform integrates seam-\\nlessly with continuous integration and continuous deployment\\n(CI/CD) pipelines, enabling automated infrastructure provi-\\nsioning and updates as part of the deployment process. This\\nensures that infrastructure changes are tested and deployed\\nalongside application code changes.\\nC. Example Implementation\\nIn this RAG-based chatbot case study, Terraform is used to\\nprovision various Azure resources, including:\\n• Virtual networks and subnets\\n• Storage accounts\\n• Azure Kubernetes Service (AKS) clusters\\n• Azure API Management for load balancing\\nThe use of Terraform helps achieve a standardized and\\nautomated setup process, ensuring that all environments (de-\\nvelopment, testing, production) are consistent and adhere to\\npredefined security and configuration standards.\\nFig. 2: Terraform: Example setup with separate modules with their\\nown inventory\\nTo ensure good design practices, separate each major pro-\\nvisioning task into distinct modules. Store the configuration\\nor inventory for each module in separate .csv or .yaml files.\\nThis approach simplifies code and configuration management\\nwithin the Terraform repository, making it more organized and\\nmaintainable.\\nBy leveraging Terraform for platform automation, the de-\\nployment process became more efficient, secure, and scalable,\\nproviding a solid foundation for future enhancements and\\nscaling efforts. The code example for landing zone setup can\\nbe found in the medium article MLOps for GenAI. [4]\\nNot using platform automation in the development and\\ndeployment of AI applications can lead to several significant\\nchallenges:\\nProceedings of 2nd International Conference on Sustainable Computing and Smart Systems (ICSCSS 2024)\\nIEEE Xplore Part Number: CFP24DJ3-ART; ISBN: 979-8-3503-7999-0\\n979-8-3503-7999-0/24/$31.00 ©2024 IEEE 1305\\nAuthorized licensed use limited to: DePaul University. Downloaded on July 02,2025 at 05:12:13 UTC from IEEE Xplore.  Restrictions apply.'"
      ]
     },
     "execution_count": 20,
     "metadata": {},
     "output_type": "execute_result"
    }
   ],
   "source": [
    "pypdf_loader_docs[1].page_content"
   ]
  },
  {
   "cell_type": "code",
   "execution_count": 22,
   "id": "1bb3df28",
   "metadata": {},
   "outputs": [
    {
     "name": "stdout",
     "output_type": "stream",
     "text": [
      "\n",
      "--- Inspecting PyMuPDFLoader Documents ---\n",
      "First document metadata: {'source': '../Data/Streamlining_AI_Application_MLOps_Best_Practices_and_Platform_Automation_Illustrated_through_an_Advanced_RAG_based_Chatbot.pdf'}\n",
      "Second document metadata: {'source': '../Data/A_Comparison_of_Pipelined_RAG-n_and_DA_FPGA-based_Multiplierless_Filters.pdf'}\n"
     ]
    }
   ],
   "source": [
    "# pymu_documents is your list from PyMuPDFLoader\n",
    "if pymupdf_loader_docs:\n",
    "    print(\"\\n--- Inspecting PyMuPDFLoader Documents ---\")\n",
    "    print(f\"First document metadata: {pymupdf_loader_docs[0].metadata}\")\n",
    "    print(f\"Second document metadata: {pymupdf_loader_docs[1].metadata}\")\n",
    "    # You should see 'page' or 'page_number' in the metadata, likely starting from 0 or 1.\n",
    "    # The 'source' will be the same for consecutive pages of the same PDF."
   ]
  },
  {
   "cell_type": "code",
   "execution_count": 21,
   "id": "cacf1b4e",
   "metadata": {},
   "outputs": [
    {
     "name": "stdout",
     "output_type": "stream",
     "text": [
      "\n",
      "--- Inspecting PyPDFLoader Documents ---\n",
      "First document metadata: {'producer': 'PDF Editor 2.2 - Foxit Corporation; modified using iTextSharp 5.4.1 ©2000-2012 1T3XT BVBA (AGPL-version); modified using iText® Core 7.2.4 (AGPL version) ©2000-2022 iText Group NV', 'creator': 'PyPDF', 'creationdate': '2024-07-19T15:20:37+00:00', 'meeting starting date': '10 July 2024', 'moddate': '2024-08-13T18:37:04-04:00', 'ieee article id': '10625230', 'ieee issue id': '10624738', 'subject': '2024 2nd International Conference on Sustainable Computing and Smart Systems (ICSCSS);2024; ; ;10.1109/ICSCSS60660.2024.10625230', 'ieee publication id': '10624685', 'title': 'Streamlining AI Application: MLOps Best Practices and Platform Automation Illustrated through an Advanced RAG based Chatbot', 'meeting ending date': '12 July 2024', 'source': '../Data/Streamlining_AI_Application_MLOps_Best_Practices_and_Platform_Automation_Illustrated_through_an_Advanced_RAG_based_Chatbot.pdf', 'total_pages': 10, 'page': 0, 'page_label': '1'}\n",
      "Second document metadata: {'producer': 'PDF Editor 2.2 - Foxit Corporation; modified using iTextSharp 5.4.1 ©2000-2012 1T3XT BVBA (AGPL-version); modified using iText® Core 7.2.4 (AGPL version) ©2000-2022 iText Group NV', 'creator': 'PyPDF', 'creationdate': '2024-07-19T15:20:37+00:00', 'meeting starting date': '10 July 2024', 'moddate': '2024-08-13T18:37:04-04:00', 'ieee article id': '10625230', 'ieee issue id': '10624738', 'subject': '2024 2nd International Conference on Sustainable Computing and Smart Systems (ICSCSS);2024; ; ;10.1109/ICSCSS60660.2024.10625230', 'ieee publication id': '10624685', 'title': 'Streamlining AI Application: MLOps Best Practices and Platform Automation Illustrated through an Advanced RAG based Chatbot', 'meeting ending date': '12 July 2024', 'source': '../Data/Streamlining_AI_Application_MLOps_Best_Practices_and_Platform_Automation_Illustrated_through_an_Advanced_RAG_based_Chatbot.pdf', 'total_pages': 10, 'page': 1, 'page_label': '2'}\n"
     ]
    }
   ],
   "source": [
    "#  pypdf_loader_docs is your list from PyMuPDFLoader\n",
    "if pypdf_loader_docs:\n",
    "    print(\"\\n--- Inspecting PyPDFLoader Documents ---\")\n",
    "    print(f\"First document metadata: {pypdf_loader_docs[0].metadata}\")\n",
    "    print(f\"Second document metadata: {pypdf_loader_docs[1].metadata}\")\n",
    "    # You should see 'page' or 'page_number' in the metadata, likely starting from 0 or 1.\n",
    "    # The 'source' will be the same for consecutive pages of the same PDF."
   ]
  },
  {
   "cell_type": "markdown",
   "id": "352e6cd0",
   "metadata": {},
   "source": [
    "The phrase \"all doc loaded in langchain\" means you've successfully completed the Document Loading phase of your RAG pipeline. You now have a list of LangChain Document objects (either 153 or 966, depending on whether you used UnstructuredPDFLoader or PyMuPDFLoader for your final load), with their page_content and metadata correctly extracted.\n",
    "\n",
    "#### What's Next: Text Splitting (Chunking)\n",
    "- Even if PyMuPDFLoader already split your PDFs into pages, individual pages can still be too large for an LLM's context window. The next crucial step in building your RAG system is Text Splitting (Chunking).\n",
    "\n",
    "#### Why is Text Splitting Important?\n",
    "- LLM Context Window Limits: Large language models have a maximum amount of text they can process at once (their \"context window\"). Your full documents or even single long pages will often exceed this limit.\n",
    "- Retrieval Relevance: When you perform a retrieval, you want to find the most relevant snippets of information, not necessarily entire documents or pages. Smaller, semantically coherent chunks lead to more precise retrieval.\n",
    "- Cost and Speed (for API-based LLMs): Smaller inputs mean lower token counts, which can reduce costs and inference time if you were using external LLM APIs (less relevant for purely local LLMs, but still good practice).\n",
    "\n",
    "#### How to do it:\n",
    "- You'll typically use a RecursiveCharacterTextSplitter from LangChain. It attempts to split text in a smart way, trying to keep paragraphs and sentences together, and only splitting into smaller units if larger ones exceed your defined chunk_size."
   ]
  },
  {
   "cell_type": "code",
   "execution_count": 24,
   "id": "a0eb7857",
   "metadata": {},
   "outputs": [
    {
     "name": "stdout",
     "output_type": "stream",
     "text": [
      "153\n",
      "966\n"
     ]
    }
   ],
   "source": [
    "# print(len(direct_loader_docs))\n",
    "# print(len(direct_loader_unstructured_docs))\n",
    "# print(len(direct_loader_unstructured_pdf_docs))\n",
    "print(len(pymupdf_loader_docs))\n",
    "print(len(pypdf_loader_docs))"
   ]
  },
  {
   "cell_type": "code",
   "execution_count": 28,
   "id": "59a77c95",
   "metadata": {},
   "outputs": [
    {
     "name": "stdout",
     "output_type": "stream",
     "text": [
      "\n",
      "Original documents: 153\n",
      "Split into 8498 chunks.\n",
      "\n",
      "--- Sample of the first chunk ---\n",
      "Content (first 500 characters):\n",
      "0 3 2 5 2 6 0 1 4 2 0 2 0 6 6 0 6 S S C S C I / 9 0 1 1 0 1 : I\n",
      "\n",
      ".\n",
      "\n",
      ".\n",
      "\n",
      ".\n",
      "\n",
      "O D | E E E I\n",
      "\n",
      "4 2 0 2 © 0 0 1 3 $ / 4 2 / 0 - 9 9 9 7 - 3 0 5 3 - 8 - 9 7 9 | ) S S C S C I (\n",
      "\n",
      ".\n",
      "\n",
      "s\n",
      "\n",
      "m e t s y S t r a m S d n a g n i t u p m o C e b a n a t s u S n o e c n e r e f n o C\n",
      "\n",
      "l\n",
      "\n",
      "i\n",
      "\n",
      "l\n",
      "\n",
      "a n o i t a n r e t n\n",
      "\n",
      "I\n",
      "\n",
      "d n 2 4 2 0 2\n",
      "\n",
      "Proceedings of 2nd International Conference on Sustainable Computing and Smart Systems (ICSCSS 2024) IEEE Xplore Part Number: CFP24DJ3-ART; ISBN: 979-8-3503-7999-0\n",
      "\n",
      "Streamlining AI Appl...\n",
      "Metadata:\n",
      "{'source': '../Data/Streamlining_AI_Application_MLOps_Best_Practices_and_Platform_Automation_Illustrated_through_an_Advanced_RAG_based_Chatbot.pdf'}\n"
     ]
    }
   ],
   "source": [
    "from langchain.text_splitter import RecursiveCharacterTextSplitter\n",
    "\n",
    "# Assuming 'documents' is your list of loaded LangChain Document objects\n",
    "\n",
    "# Initialize the text splitter\n",
    "# chunk_size: The maximum number of characters for each text chunk.\n",
    "# chunk_overlap: The number of characters to overlap between adjacent chunks.\n",
    "#                This helps retain context across splits.\n",
    "text_splitter = RecursiveCharacterTextSplitter(\n",
    "    chunk_size=1000,   # Experiment with this value (e.g., 500, 1500, 2000)\n",
    "    chunk_overlap=200  # Experiment with this value (e.g., 50, 100, 200)\n",
    ")\n",
    "\n",
    "# Split the documents into chunks\n",
    "chunks_direct_loader_pymupdf = text_splitter.split_documents(pymupdf_loader_docs)\n",
    "\n",
    "print(f\"\\nOriginal documents: {len(pymupdf_loader_docs)}\")\n",
    "print(f\"Split into {len(chunks_direct_loader_pymupdf)} chunks.\")\n",
    "\n",
    "# You can view a sample chunk as well:\n",
    "if chunks_direct_loader_pymupdf:\n",
    "    print(\"\\n--- Sample of the first chunk ---\")\n",
    "    print(f\"Content (first 500 characters):\\n{chunks_direct_loader_pymupdf[0].page_content[:500]}...\")\n",
    "    print(f\"Metadata:\\n{chunks_direct_loader_pymupdf[0].metadata}\")"
   ]
  },
  {
   "cell_type": "markdown",
   "id": "8ae2c70e",
   "metadata": {},
   "source": [
    "The chunks list will now contain many more smaller Document objects, each suitable for embedding and storing in your vector database."
   ]
  },
  {
   "cell_type": "code",
   "execution_count": 30,
   "id": "4db3b7a9",
   "metadata": {},
   "outputs": [
    {
     "name": "stdout",
     "output_type": "stream",
     "text": [
      "\n",
      "Original documents: 966\n",
      "Split into 6510 chunks.\n",
      "\n",
      "--- Sample of the first chunk ---\n",
      "Content (first 500 characters):\n",
      "Streamlining AI Application: MLOps Best Practices\n",
      "and Platform Automation Illustrated through an\n",
      "Advanced RAG based Chatbot\n",
      "Harcharan Singh Kabbay\n",
      "Sr. Machine Learning Engineer\n",
      "World Wide Technology\n",
      "St. Louis, MO, USA\n",
      "harcharan.kabbay@gmail.com\n",
      "Abstract—This research study presents a comprehensive guide\n",
      "to MLOps best practices tailored for developing and deploying\n",
      "Artificial Intelligence (AI) based applications, focusing on the\n",
      "challenges and recent techniques in the field. Current systems\n",
      "face ...\n",
      "Metadata:\n",
      "{'producer': 'PDF Editor 2.2 - Foxit Corporation; modified using iTextSharp 5.4.1 ©2000-2012 1T3XT BVBA (AGPL-version); modified using iText® Core 7.2.4 (AGPL version) ©2000-2022 iText Group NV', 'creator': 'PyPDF', 'creationdate': '2024-07-19T15:20:37+00:00', 'meeting starting date': '10 July 2024', 'moddate': '2024-08-13T18:37:04-04:00', 'ieee article id': '10625230', 'ieee issue id': '10624738', 'subject': '2024 2nd International Conference on Sustainable Computing and Smart Systems (ICSCSS);2024; ; ;10.1109/ICSCSS60660.2024.10625230', 'ieee publication id': '10624685', 'title': 'Streamlining AI Application: MLOps Best Practices and Platform Automation Illustrated through an Advanced RAG based Chatbot', 'meeting ending date': '12 July 2024', 'source': '../Data/Streamlining_AI_Application_MLOps_Best_Practices_and_Platform_Automation_Illustrated_through_an_Advanced_RAG_based_Chatbot.pdf', 'total_pages': 10, 'page': 0, 'page_label': '1'}\n"
     ]
    }
   ],
   "source": [
    "# Assuming 'documents' is your list of loaded LangChain Document objects\n",
    "\n",
    "# Initialize the text splitter\n",
    "# chunk_size: The maximum number of characters for each text chunk.\n",
    "# chunk_overlap: The number of characters to overlap between adjacent chunks.\n",
    "#                This helps retain context across splits.\n",
    "text_splitter = RecursiveCharacterTextSplitter(\n",
    "    chunk_size=1000,   # Experiment with this value (e.g., 500, 1500, 2000)\n",
    "    chunk_overlap=200  # Experiment with this value (e.g., 50, 100, 200)\n",
    ")\n",
    "\n",
    "# Split the documents into chunks\n",
    "chunks_direct_loader_pypdf = text_splitter.split_documents(pypdf_loader_docs)\n",
    "\n",
    "print(f\"\\nOriginal documents: {len(pypdf_loader_docs)}\")\n",
    "print(f\"Split into {len(chunks_direct_loader_pypdf)} chunks.\")\n",
    "\n",
    "# You can view a sample chunk as well:\n",
    "if chunks_direct_loader_pypdf:\n",
    "    print(\"\\n--- Sample of the first chunk ---\")\n",
    "    print(f\"Content (first 500 characters):\\n{chunks_direct_loader_pypdf[0].page_content[:500]}...\")\n",
    "    print(f\"Metadata:\\n{chunks_direct_loader_pypdf[0].metadata}\")"
   ]
  },
  {
   "cell_type": "markdown",
   "id": "21efa455",
   "metadata": {},
   "source": [
    "#### The next crucial steps in building your local RAG (Retrieval-Augmented Generation) pipeline are:\n",
    "- Text Embedding: Convert your text chunks into numerical representations (vectors).\n",
    "- Vector Store/Database: Store these embeddings in a specialized database that allows for efficient similarity search.\n",
    "\n",
    "#### Text Embedding (Creating Embeddings)\n",
    "- What it is: Text embedding is the process of converting text (your chunks) into dense numerical vectors. These vectors capture the semantic meaning of the text, such that chunks with similar meanings will have vectors that are \"close\" to each other in a multi-dimensional space.\n",
    "- Why it's needed: When a user asks a query, you'll convert that query into an embedding as well. To find relevant documents, you'll then search for document chunks whose embeddings are most similar to the query's embedding.\n",
    "- Tool: For a local RAG setup, you'll use a local embedding model. HuggingFaceEmbeddings is a common choice as it allows you to load models directly from Hugging Face Hub that can run on your CPU/GPU without external API calls.\n",
    "- What it is and Why it's needed: Your explanation is spot on. Embeddings are the bridge between human language and machine understanding, enabling semantic search. The \"closeness\" of vectors in multi-dimensional space directly correlates to the semantic similarity of the original text chunks.\n",
    "#### Key considerations when using HuggingFaceEmbeddings:\n",
    "- Model Selection:\n",
    "    - Performance vs. Size: The Hugging Face MTEB (Massive Text Embedding Benchmark) Leaderboard is your go-to resource for comparing models. Look at \"Retrieval Average\" scores, but also consider \"Model Size\" and \"Max Tokens.\" Larger models often offer better performance but require more computational resources (RAM and potentially GPU).\n",
    "    - Domain Specificity: For highly specialized domains (e.g., medical, legal), fine-tuned models might outperform general-purpose ones.\n",
    "    - Multilingual Support: If your data isn't exclusively English, ensure the model supports the languages you need.\n",
    "    - Examples of good local models: Models like BAAI/bge-small-en-v1.5, intfloat/e5-base-v2, and variants of all-MiniLM-L6-v2 are popular choices for their balance of performance and efficiency for local deployment.\n",
    "\n",
    "#### Hardware Usage (CPU/GPU):\n",
    "- HuggingFaceEmbeddings typically uses the sentence-transformers library under the hood. This library automatically tries to leverage a GPU if one is available and configured correctly (e.g., PyTorch with CUDA support).\n",
    "- Explicit Device Setting: You can explicitly set the device to \"cpu\" or \"cuda\" (for GPU) when initializing HuggingFaceEmbeddings using model_kwargs={'device': 'cpu'} or model_kwargs={'device': 'cuda'}. This is particularly useful if you have multiple GPUs or want to force CPU usage for testing/resource management.\n",
    "- Batching: For faster embedding generation, especially on GPUs, process your text chunks in batches. HuggingFaceEmbeddings often has a batch_size parameter.\n",
    "- Performance Monitoring: If you have a GPU, monitor its utilization (e.g., with nvidia-smi on Linux) to ensure it's being used effectively. Sometimes, CPU bottlenecks (e.g., slow data loading) can lead to low GPU utilization.\n",
    "- Installation: You'll need to install the sentence-transformers package: pip install sentence-transformers. If you plan to use a GPU, ensure your PyTorch installation supports CUDA.\n",
    "- Normalization: For cosine similarity (a common metric for vector similarity search), it's often recommended to normalize the embeddings. Some models produce normalized embeddings by default, while others might require you to set normalize_embeddings=True in encode_kwargs when initializing HuggingFaceEmbeddings.\n",
    "\n",
    "#### Vector Store/Database\n",
    "- What it is and Why it's needed: Once you have your embeddings, you need a place to store them that allows for fast \"nearest neighbor\" searches. This is where vector databases shine. They are optimized for efficiently finding vectors that are semantically close to a given query vector.\n",
    "\n",
    "#### Next steps for the Vector Store:\n",
    "- Choice of Vector Store: For local RAG, popular choices include:\n",
    "    - ChromaDB: A lightweight, easy-to-use vector database that can run entirely locally without complex setup. Excellent for getting started.\n",
    "    - FAISS (Facebook AI Similarity Search): A library for efficient similarity search and clustering of dense vectors. It's an in-memory index, meaning it's very fast but doesn't persist data between runs unless you explicitly save and load the index. Good for smaller datasets or if you manage persistence yourself.\n",
    "    - Milvus Lite/Qdrant Lite: Lighter versions of their full-fledged vector database counterparts, offering more features than FAISS while still being suitable for local deployments.\n",
    "- Indexing: Once you choose a vector store, you'll need to \"index\" your document embeddings into it. This process organizes the vectors for efficient search.\n",
    "- Similarity Search: When a user query comes in, you'll convert it to an embedding using the same HuggingFaceEmbeddings model. Then, you'll perform a similarity search in your vector store to retrieve the most relevant document chunks. Common similarity metrics include cosine similarity, dot product, or Euclidean distance.\n",
    "- By focusing on these two steps – robust text embedding and efficient vector storage – you'll build the core retrieval component of your local RAG pipeline.\n"
   ]
  },
  {
   "cell_type": "code",
   "execution_count": 31,
   "id": "6bef7ee6",
   "metadata": {},
   "outputs": [
    {
     "data": {
      "text/plain": [
       "(8498, 6510)"
      ]
     },
     "execution_count": 31,
     "metadata": {},
     "output_type": "execute_result"
    }
   ],
   "source": [
    "len(chunks_direct_loader_pymupdf), len(chunks_direct_loader_pypdf)"
   ]
  },
  {
   "cell_type": "code",
   "execution_count": null,
   "id": "48b9aff6",
   "metadata": {},
   "outputs": [],
   "source": [
    "def two_sum(nums, target):\n",
    "    num_to_index = {}\n",
    "    for i, num in enumerate(nums):\n",
    "        complement = target - num\n",
    "        if complement in num_to_index:\n",
    "            return [num_to_index[complement], i]\n",
    "        num_to_index[num] = i"
   ]
  },
  {
   "cell_type": "code",
   "execution_count": null,
   "id": "e7979607",
   "metadata": {},
   "outputs": [],
   "source": [
    "nums = [3, 7, 11, 15, 2]\n",
    "target = 17\n",
    "result = two_sum(nums, target)\n",
    "print(result)  # Output: [0, 1]"
   ]
  },
  {
   "cell_type": "code",
   "execution_count": null,
   "id": "e6a70a73",
   "metadata": {},
   "outputs": [],
   "source": [
    "num_to_index = {}\n",
    "for i, num in enumerate(nums):\n",
    "    print(target - num)\n",
    "    complement = target - num\n",
    "    print(f\":::::Current num_to_index: {num_to_index}\")\n",
    "    if complement in num_to_index:\n",
    "        print(f\"Found: {num_to_index[complement]}, {i}\")\n",
    "\n",
    "    # print(f\"Current num_to_index: {num_to_index}\")\n",
    "    num_to_index[num] = i"
   ]
  },
  {
   "cell_type": "code",
   "execution_count": null,
   "id": "078b5c5e",
   "metadata": {},
   "outputs": [],
   "source": [
    "num_to_index"
   ]
  },
  {
   "cell_type": "code",
   "execution_count": null,
   "id": "ec6a8a86",
   "metadata": {},
   "outputs": [],
   "source": [
    "num_to_index[3]"
   ]
  },
  {
   "cell_type": "code",
   "execution_count": null,
   "id": "f7c5fe2c",
   "metadata": {},
   "outputs": [],
   "source": []
  }
 ],
 "metadata": {
  "kernelspec": {
   "display_name": "rag_env",
   "language": "python",
   "name": "python3"
  },
  "language_info": {
   "codemirror_mode": {
    "name": "ipython",
    "version": 3
   },
   "file_extension": ".py",
   "mimetype": "text/x-python",
   "name": "python",
   "nbconvert_exporter": "python",
   "pygments_lexer": "ipython3",
   "version": "3.13.2"
  }
 },
 "nbformat": 4,
 "nbformat_minor": 5
}
